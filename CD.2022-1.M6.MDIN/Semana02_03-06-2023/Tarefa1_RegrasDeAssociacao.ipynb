{
 "cells": [
  {
   "cell_type": "markdown",
   "metadata": {},
   "source": [
    "# Mineração de Dados para Inteligência de Negócio\n",
    "\n",
    "## Semana 2: Regras de Associação"
   ]
  },
  {
   "cell_type": "markdown",
   "metadata": {},
   "source": [
    "#### Importando a biblioteca Apriori"
   ]
  },
  {
   "cell_type": "code",
   "execution_count": 1,
   "metadata": {},
   "outputs": [],
   "source": [
    "import pandas as pd\n",
    "from apyori import apriori"
   ]
  },
  {
   "cell_type": "markdown",
   "metadata": {},
   "source": [
    "#### Carregando transações em um formato apropriado para a aplicação do algoritmo Apriori"
   ]
  },
  {
   "cell_type": "code",
   "execution_count": 63,
   "metadata": {},
   "outputs": [
    {
     "data": {
      "text/html": [
       "<div>\n",
       "<style scoped>\n",
       "    .dataframe tbody tr th:only-of-type {\n",
       "        vertical-align: middle;\n",
       "    }\n",
       "\n",
       "    .dataframe tbody tr th {\n",
       "        vertical-align: top;\n",
       "    }\n",
       "\n",
       "    .dataframe thead th {\n",
       "        text-align: right;\n",
       "    }\n",
       "</style>\n",
       "<table border=\"1\" class=\"dataframe\">\n",
       "  <thead>\n",
       "    <tr style=\"text-align: right;\">\n",
       "      <th></th>\n",
       "      <th>0</th>\n",
       "      <th>1</th>\n",
       "      <th>2</th>\n",
       "      <th>3</th>\n",
       "    </tr>\n",
       "  </thead>\n",
       "  <tbody>\n",
       "    <tr>\n",
       "      <th>0</th>\n",
       "      <td>MILK</td>\n",
       "      <td>BREAD</td>\n",
       "      <td>BISCUIT</td>\n",
       "      <td>NaN</td>\n",
       "    </tr>\n",
       "    <tr>\n",
       "      <th>1</th>\n",
       "      <td>BREAD</td>\n",
       "      <td>MILK</td>\n",
       "      <td>BISCUIT</td>\n",
       "      <td>CORNFLAKES</td>\n",
       "    </tr>\n",
       "    <tr>\n",
       "      <th>2</th>\n",
       "      <td>BREAD</td>\n",
       "      <td>TEA</td>\n",
       "      <td>BOURNVITA</td>\n",
       "      <td>NaN</td>\n",
       "    </tr>\n",
       "    <tr>\n",
       "      <th>3</th>\n",
       "      <td>JAM</td>\n",
       "      <td>MAGGI</td>\n",
       "      <td>BREAD</td>\n",
       "      <td>MILK</td>\n",
       "    </tr>\n",
       "    <tr>\n",
       "      <th>4</th>\n",
       "      <td>MAGGI</td>\n",
       "      <td>TEA</td>\n",
       "      <td>BISCUIT</td>\n",
       "      <td>NaN</td>\n",
       "    </tr>\n",
       "    <tr>\n",
       "      <th>5</th>\n",
       "      <td>BREAD</td>\n",
       "      <td>TEA</td>\n",
       "      <td>BOURNVITA</td>\n",
       "      <td>NaN</td>\n",
       "    </tr>\n",
       "    <tr>\n",
       "      <th>6</th>\n",
       "      <td>MAGGI</td>\n",
       "      <td>TEA</td>\n",
       "      <td>CORNFLAKES</td>\n",
       "      <td>NaN</td>\n",
       "    </tr>\n",
       "    <tr>\n",
       "      <th>7</th>\n",
       "      <td>MAGGI</td>\n",
       "      <td>BREAD</td>\n",
       "      <td>TEA</td>\n",
       "      <td>BISCUIT</td>\n",
       "    </tr>\n",
       "    <tr>\n",
       "      <th>8</th>\n",
       "      <td>JAM</td>\n",
       "      <td>MAGGI</td>\n",
       "      <td>BREAD</td>\n",
       "      <td>TEA</td>\n",
       "    </tr>\n",
       "    <tr>\n",
       "      <th>9</th>\n",
       "      <td>BREAD</td>\n",
       "      <td>MILK</td>\n",
       "      <td>NaN</td>\n",
       "      <td>NaN</td>\n",
       "    </tr>\n",
       "    <tr>\n",
       "      <th>10</th>\n",
       "      <td>COFFEE</td>\n",
       "      <td>COCK</td>\n",
       "      <td>BISCUIT</td>\n",
       "      <td>CORNFLAKES</td>\n",
       "    </tr>\n",
       "    <tr>\n",
       "      <th>11</th>\n",
       "      <td>COFFEE</td>\n",
       "      <td>COCK</td>\n",
       "      <td>BISCUIT</td>\n",
       "      <td>CORNFLAKES</td>\n",
       "    </tr>\n",
       "    <tr>\n",
       "      <th>12</th>\n",
       "      <td>COFFEE</td>\n",
       "      <td>SUGER</td>\n",
       "      <td>BOURNVITA</td>\n",
       "      <td>NaN</td>\n",
       "    </tr>\n",
       "    <tr>\n",
       "      <th>13</th>\n",
       "      <td>BREAD</td>\n",
       "      <td>COFFEE</td>\n",
       "      <td>COCK</td>\n",
       "      <td>NaN</td>\n",
       "    </tr>\n",
       "    <tr>\n",
       "      <th>14</th>\n",
       "      <td>BREAD</td>\n",
       "      <td>SUGER</td>\n",
       "      <td>BISCUIT</td>\n",
       "      <td>NaN</td>\n",
       "    </tr>\n",
       "    <tr>\n",
       "      <th>15</th>\n",
       "      <td>COFFEE</td>\n",
       "      <td>SUGER</td>\n",
       "      <td>CORNFLAKES</td>\n",
       "      <td>NaN</td>\n",
       "    </tr>\n",
       "    <tr>\n",
       "      <th>16</th>\n",
       "      <td>BREAD</td>\n",
       "      <td>SUGER</td>\n",
       "      <td>BOURNVITA</td>\n",
       "      <td>NaN</td>\n",
       "    </tr>\n",
       "    <tr>\n",
       "      <th>17</th>\n",
       "      <td>BREAD</td>\n",
       "      <td>COFFEE</td>\n",
       "      <td>SUGER</td>\n",
       "      <td>NaN</td>\n",
       "    </tr>\n",
       "    <tr>\n",
       "      <th>18</th>\n",
       "      <td>BREAD</td>\n",
       "      <td>COFFEE</td>\n",
       "      <td>SUGER</td>\n",
       "      <td>NaN</td>\n",
       "    </tr>\n",
       "    <tr>\n",
       "      <th>19</th>\n",
       "      <td>TEA</td>\n",
       "      <td>MILK</td>\n",
       "      <td>COFFEE</td>\n",
       "      <td>CORNFLAKES</td>\n",
       "    </tr>\n",
       "  </tbody>\n",
       "</table>\n",
       "</div>"
      ],
      "text/plain": [
       "         0       1           2           3\n",
       "0     MILK   BREAD     BISCUIT         NaN\n",
       "1    BREAD    MILK     BISCUIT  CORNFLAKES\n",
       "2    BREAD     TEA   BOURNVITA         NaN\n",
       "3      JAM   MAGGI       BREAD        MILK\n",
       "4    MAGGI     TEA     BISCUIT         NaN\n",
       "5    BREAD     TEA   BOURNVITA         NaN\n",
       "6    MAGGI     TEA  CORNFLAKES         NaN\n",
       "7    MAGGI   BREAD         TEA     BISCUIT\n",
       "8      JAM   MAGGI       BREAD         TEA\n",
       "9    BREAD    MILK         NaN         NaN\n",
       "10  COFFEE    COCK     BISCUIT  CORNFLAKES\n",
       "11  COFFEE    COCK     BISCUIT  CORNFLAKES\n",
       "12  COFFEE   SUGER   BOURNVITA         NaN\n",
       "13   BREAD  COFFEE        COCK         NaN\n",
       "14   BREAD   SUGER     BISCUIT         NaN\n",
       "15  COFFEE   SUGER  CORNFLAKES         NaN\n",
       "16   BREAD   SUGER   BOURNVITA         NaN\n",
       "17   BREAD  COFFEE       SUGER         NaN\n",
       "18   BREAD  COFFEE       SUGER         NaN\n",
       "19     TEA    MILK      COFFEE  CORNFLAKES"
      ]
     },
     "execution_count": 63,
     "metadata": {},
     "output_type": "execute_result"
    }
   ],
   "source": [
    "dados = pd.read_csv(\"https://raw.githubusercontent.com/jefferson-oliva/databases/main/exercicio_association_rules.csv\", header = None)\n",
    "dados"
   ]
  },
  {
   "cell_type": "markdown",
   "metadata": {},
   "source": [
    "#### Aplicação do algoritmo Apriori"
   ]
  },
  {
   "cell_type": "code",
   "execution_count": 99,
   "metadata": {
    "scrolled": true
   },
   "outputs": [
    {
     "data": {
      "text/plain": [
       "[['MILK', 'BREAD', 'BISCUIT'],\n",
       " ['BREAD', 'MILK', 'BISCUIT', 'CORNFLAKES'],\n",
       " ['BREAD', 'TEA', 'BOURNVITA'],\n",
       " ['JAM', 'MAGGI', 'BREAD', 'MILK'],\n",
       " ['MAGGI', 'TEA', 'BISCUIT'],\n",
       " ['BREAD', 'TEA', 'BOURNVITA'],\n",
       " ['MAGGI', 'TEA', 'CORNFLAKES'],\n",
       " ['MAGGI', 'BREAD', 'TEA', 'BISCUIT'],\n",
       " ['JAM', 'MAGGI', 'BREAD', 'TEA'],\n",
       " ['BREAD', 'MILK'],\n",
       " ['COFFEE', 'COCK', 'BISCUIT', 'CORNFLAKES'],\n",
       " ['COFFEE', 'COCK', 'BISCUIT', 'CORNFLAKES'],\n",
       " ['COFFEE', 'SUGER', 'BOURNVITA'],\n",
       " ['BREAD', 'COFFEE', 'COCK'],\n",
       " ['BREAD', 'SUGER', 'BISCUIT'],\n",
       " ['COFFEE', 'SUGER', 'CORNFLAKES'],\n",
       " ['BREAD', 'SUGER', 'BOURNVITA'],\n",
       " ['BREAD', 'COFFEE', 'SUGER'],\n",
       " ['BREAD', 'COFFEE', 'SUGER'],\n",
       " ['TEA', 'MILK', 'COFFEE', 'CORNFLAKES']]"
      ]
     },
     "execution_count": 99,
     "metadata": {},
     "output_type": "execute_result"
    }
   ],
   "source": [
    "transacoes = []\n",
    "for i in range(dados.shape[0]):\n",
    "    transacoes.append([str(dados.values[i, j]) for j in range(dados.shape[1])  if str(dados.values[i, j]) != 'nan'])\n",
    "transacoes"
   ]
  },
  {
   "cell_type": "code",
   "execution_count": 119,
   "metadata": {},
   "outputs": [],
   "source": [
    "regras_associacao = apriori(transacoes, min_support = 0.05, min_confidence = 0.5, min_lift = 5)"
   ]
  },
  {
   "cell_type": "code",
   "execution_count": 120,
   "metadata": {},
   "outputs": [
    {
     "data": {
      "text/plain": [
       "[RelationRecord(items=frozenset({'COCK', 'COFFEE', 'BISCUIT'}), support=0.1, ordered_statistics=[OrderedStatistic(items_base=frozenset({'COCK'}), items_add=frozenset({'COFFEE', 'BISCUIT'}), confidence=0.6666666666666667, lift=6.666666666666667), OrderedStatistic(items_base=frozenset({'COFFEE', 'BISCUIT'}), items_add=frozenset({'COCK'}), confidence=1.0, lift=6.666666666666667)]),\n",
       " RelationRecord(items=frozenset({'JAM', 'BREAD', 'MAGGI'}), support=0.1, ordered_statistics=[OrderedStatistic(items_base=frozenset({'JAM'}), items_add=frozenset({'BREAD', 'MAGGI'}), confidence=1.0, lift=6.666666666666667), OrderedStatistic(items_base=frozenset({'BREAD', 'MAGGI'}), items_add=frozenset({'JAM'}), confidence=0.6666666666666667, lift=6.666666666666667)]),\n",
       " RelationRecord(items=frozenset({'JAM', 'MILK', 'MAGGI'}), support=0.05, ordered_statistics=[OrderedStatistic(items_base=frozenset({'JAM'}), items_add=frozenset({'MILK', 'MAGGI'}), confidence=0.5, lift=10.0), OrderedStatistic(items_base=frozenset({'MILK', 'MAGGI'}), items_add=frozenset({'JAM'}), confidence=1.0, lift=10.0)]),\n",
       " RelationRecord(items=frozenset({'MILK', 'BREAD', 'CORNFLAKES', 'BISCUIT'}), support=0.05, ordered_statistics=[OrderedStatistic(items_base=frozenset({'MILK', 'BISCUIT'}), items_add=frozenset({'BREAD', 'CORNFLAKES'}), confidence=0.5, lift=10.0), OrderedStatistic(items_base=frozenset({'BREAD', 'CORNFLAKES'}), items_add=frozenset({'MILK', 'BISCUIT'}), confidence=1.0, lift=10.0)]),\n",
       " RelationRecord(items=frozenset({'CORNFLAKES', 'COCK', 'COFFEE', 'BISCUIT'}), support=0.1, ordered_statistics=[OrderedStatistic(items_base=frozenset({'COCK'}), items_add=frozenset({'COFFEE', 'CORNFLAKES', 'BISCUIT'}), confidence=0.6666666666666667, lift=6.666666666666667), OrderedStatistic(items_base=frozenset({'COCK', 'BISCUIT'}), items_add=frozenset({'COFFEE', 'CORNFLAKES'}), confidence=1.0, lift=5.0), OrderedStatistic(items_base=frozenset({'COFFEE', 'BISCUIT'}), items_add=frozenset({'COCK', 'CORNFLAKES'}), confidence=1.0, lift=10.0), OrderedStatistic(items_base=frozenset({'COCK', 'CORNFLAKES'}), items_add=frozenset({'COFFEE', 'BISCUIT'}), confidence=1.0, lift=10.0), OrderedStatistic(items_base=frozenset({'COFFEE', 'CORNFLAKES'}), items_add=frozenset({'COCK', 'BISCUIT'}), confidence=0.5, lift=5.0), OrderedStatistic(items_base=frozenset({'COFFEE', 'CORNFLAKES', 'BISCUIT'}), items_add=frozenset({'COCK'}), confidence=1.0, lift=6.666666666666667)]),\n",
       " RelationRecord(items=frozenset({'JAM', 'BREAD', 'MILK', 'MAGGI'}), support=0.05, ordered_statistics=[OrderedStatistic(items_base=frozenset({'JAM'}), items_add=frozenset({'MILK', 'BREAD', 'MAGGI'}), confidence=0.5, lift=10.0), OrderedStatistic(items_base=frozenset({'JAM', 'BREAD'}), items_add=frozenset({'MILK', 'MAGGI'}), confidence=0.5, lift=10.0), OrderedStatistic(items_base=frozenset({'JAM', 'MILK'}), items_add=frozenset({'BREAD', 'MAGGI'}), confidence=1.0, lift=6.666666666666667), OrderedStatistic(items_base=frozenset({'MILK', 'MAGGI'}), items_add=frozenset({'JAM', 'BREAD'}), confidence=1.0, lift=10.0), OrderedStatistic(items_base=frozenset({'MILK', 'BREAD', 'MAGGI'}), items_add=frozenset({'JAM'}), confidence=1.0, lift=10.0)]),\n",
       " RelationRecord(items=frozenset({'TEA', 'JAM', 'BREAD', 'MAGGI'}), support=0.05, ordered_statistics=[OrderedStatistic(items_base=frozenset({'JAM'}), items_add=frozenset({'TEA', 'BREAD', 'MAGGI'}), confidence=0.5, lift=5.0), OrderedStatistic(items_base=frozenset({'TEA', 'JAM'}), items_add=frozenset({'BREAD', 'MAGGI'}), confidence=1.0, lift=6.666666666666667), OrderedStatistic(items_base=frozenset({'TEA', 'BREAD', 'MAGGI'}), items_add=frozenset({'JAM'}), confidence=0.5, lift=5.0)]),\n",
       " RelationRecord(items=frozenset({'TEA', 'MILK', 'COFFEE', 'CORNFLAKES'}), support=0.05, ordered_statistics=[OrderedStatistic(items_base=frozenset({'MILK', 'COFFEE'}), items_add=frozenset({'TEA', 'CORNFLAKES'}), confidence=1.0, lift=10.0), OrderedStatistic(items_base=frozenset({'TEA', 'COFFEE'}), items_add=frozenset({'MILK', 'CORNFLAKES'}), confidence=1.0, lift=10.0), OrderedStatistic(items_base=frozenset({'MILK', 'CORNFLAKES'}), items_add=frozenset({'TEA', 'COFFEE'}), confidence=0.5, lift=10.0), OrderedStatistic(items_base=frozenset({'TEA', 'CORNFLAKES'}), items_add=frozenset({'MILK', 'COFFEE'}), confidence=0.5, lift=10.0), OrderedStatistic(items_base=frozenset({'TEA', 'MILK'}), items_add=frozenset({'COFFEE', 'CORNFLAKES'}), confidence=1.0, lift=5.0)])]"
      ]
     },
     "execution_count": 120,
     "metadata": {},
     "output_type": "execute_result"
    }
   ],
   "source": [
    "lista_resultado = list(regras_associacao)\n",
    "lista_resultado"
   ]
  },
  {
   "cell_type": "markdown",
   "metadata": {},
   "source": [
    "#### Lista de regras de associação formatada"
   ]
  },
  {
   "cell_type": "code",
   "execution_count": 121,
   "metadata": {
    "scrolled": false
   },
   "outputs": [
    {
     "data": {
      "text/plain": [
       "[[[frozenset({'COCK'}),\n",
       "   frozenset({'BISCUIT', 'COFFEE'}),\n",
       "   0.6666666666666667,\n",
       "   6.666666666666667],\n",
       "  [frozenset({'BISCUIT', 'COFFEE'}),\n",
       "   frozenset({'COCK'}),\n",
       "   1.0,\n",
       "   6.666666666666667]],\n",
       " [[frozenset({'JAM'}), frozenset({'BREAD', 'MAGGI'}), 1.0, 6.666666666666667],\n",
       "  [frozenset({'BREAD', 'MAGGI'}),\n",
       "   frozenset({'JAM'}),\n",
       "   0.6666666666666667,\n",
       "   6.666666666666667]],\n",
       " [[frozenset({'JAM'}), frozenset({'MAGGI', 'MILK'}), 0.5, 10.0],\n",
       "  [frozenset({'MAGGI', 'MILK'}), frozenset({'JAM'}), 1.0, 10.0]],\n",
       " [[frozenset({'BISCUIT', 'MILK'}),\n",
       "   frozenset({'BREAD', 'CORNFLAKES'}),\n",
       "   0.5,\n",
       "   10.0],\n",
       "  [frozenset({'BREAD', 'CORNFLAKES'}),\n",
       "   frozenset({'BISCUIT', 'MILK'}),\n",
       "   1.0,\n",
       "   10.0]],\n",
       " [[frozenset({'COCK'}),\n",
       "   frozenset({'BISCUIT', 'COFFEE', 'CORNFLAKES'}),\n",
       "   0.6666666666666667,\n",
       "   6.666666666666667],\n",
       "  [frozenset({'BISCUIT', 'COCK'}),\n",
       "   frozenset({'COFFEE', 'CORNFLAKES'}),\n",
       "   1.0,\n",
       "   5.0],\n",
       "  [frozenset({'BISCUIT', 'COFFEE'}),\n",
       "   frozenset({'COCK', 'CORNFLAKES'}),\n",
       "   1.0,\n",
       "   10.0],\n",
       "  [frozenset({'COCK', 'CORNFLAKES'}),\n",
       "   frozenset({'BISCUIT', 'COFFEE'}),\n",
       "   1.0,\n",
       "   10.0],\n",
       "  [frozenset({'COFFEE', 'CORNFLAKES'}),\n",
       "   frozenset({'BISCUIT', 'COCK'}),\n",
       "   0.5,\n",
       "   5.0],\n",
       "  [frozenset({'BISCUIT', 'COFFEE', 'CORNFLAKES'}),\n",
       "   frozenset({'COCK'}),\n",
       "   1.0,\n",
       "   6.666666666666667]],\n",
       " [[frozenset({'JAM'}), frozenset({'BREAD', 'MAGGI', 'MILK'}), 0.5, 10.0],\n",
       "  [frozenset({'BREAD', 'JAM'}), frozenset({'MAGGI', 'MILK'}), 0.5, 10.0],\n",
       "  [frozenset({'JAM', 'MILK'}),\n",
       "   frozenset({'BREAD', 'MAGGI'}),\n",
       "   1.0,\n",
       "   6.666666666666667],\n",
       "  [frozenset({'MAGGI', 'MILK'}), frozenset({'BREAD', 'JAM'}), 1.0, 10.0],\n",
       "  [frozenset({'BREAD', 'MAGGI', 'MILK'}), frozenset({'JAM'}), 1.0, 10.0]],\n",
       " [[frozenset({'JAM'}), frozenset({'BREAD', 'MAGGI', 'TEA'}), 0.5, 5.0],\n",
       "  [frozenset({'JAM', 'TEA'}),\n",
       "   frozenset({'BREAD', 'MAGGI'}),\n",
       "   1.0,\n",
       "   6.666666666666667],\n",
       "  [frozenset({'BREAD', 'MAGGI', 'TEA'}), frozenset({'JAM'}), 0.5, 5.0]],\n",
       " [[frozenset({'COFFEE', 'MILK'}), frozenset({'CORNFLAKES', 'TEA'}), 1.0, 10.0],\n",
       "  [frozenset({'COFFEE', 'TEA'}), frozenset({'CORNFLAKES', 'MILK'}), 1.0, 10.0],\n",
       "  [frozenset({'CORNFLAKES', 'MILK'}), frozenset({'COFFEE', 'TEA'}), 0.5, 10.0],\n",
       "  [frozenset({'CORNFLAKES', 'TEA'}), frozenset({'COFFEE', 'MILK'}), 0.5, 10.0],\n",
       "  [frozenset({'MILK', 'TEA'}), frozenset({'COFFEE', 'CORNFLAKES'}), 1.0, 5.0]]]"
      ]
     },
     "execution_count": 121,
     "metadata": {},
     "output_type": "execute_result"
    }
   ],
   "source": [
    "lista_resultado_formatado = []\n",
    "for i in range(len(lista_resultado)):\n",
    "    lista_resultado_formatado.append([list(j) for j in lista_resultado[i][2]])\n",
    "lista_resultado_formatado"
   ]
  },
  {
   "cell_type": "markdown",
   "metadata": {},
   "source": [
    "#### Quantidade de regras de associação geradas"
   ]
  },
  {
   "cell_type": "code",
   "execution_count": 122,
   "metadata": {},
   "outputs": [
    {
     "name": "stdout",
     "output_type": "stream",
     "text": [
      "8\n"
     ]
    }
   ],
   "source": [
    "print(len(lista_resultado_formatado))"
   ]
  }
 ],
 "metadata": {
  "kernelspec": {
   "display_name": "Python 3 (ipykernel)",
   "language": "python",
   "name": "python3"
  },
  "language_info": {
   "codemirror_mode": {
    "name": "ipython",
    "version": 3
   },
   "file_extension": ".py",
   "mimetype": "text/x-python",
   "name": "python",
   "nbconvert_exporter": "python",
   "pygments_lexer": "ipython3",
   "version": "3.9.16"
  }
 },
 "nbformat": 4,
 "nbformat_minor": 4
}
