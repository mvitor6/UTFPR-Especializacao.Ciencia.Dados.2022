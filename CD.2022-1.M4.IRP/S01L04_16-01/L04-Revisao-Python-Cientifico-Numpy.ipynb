{
 "cells": [
  {
   "cell_type": "markdown",
   "id": "24fabf97",
   "metadata": {},
   "source": [
    "# STAT 479: Machine Learning Lecture Notes"
   ]
  },
  {
   "cell_type": "markdown",
   "id": "5833f57b",
   "metadata": {},
   "source": [
    "## 4 Scientific Computing in Python"
   ]
  },
  {
   "cell_type": "markdown",
   "id": "05eae706",
   "metadata": {},
   "source": [
    "### 4.1.2 N-dimensional Arrays"
   ]
  },
  {
   "cell_type": "code",
   "execution_count": 1,
   "id": "4b60a33a",
   "metadata": {},
   "outputs": [],
   "source": [
    "# importa a biblioteca do NumPy\n",
    "import numpy as np"
   ]
  },
  {
   "cell_type": "code",
   "execution_count": 2,
   "id": "985bdc56",
   "metadata": {},
   "outputs": [],
   "source": [
    "lst = [[1, 2, 3], [4, 5, 6]]"
   ]
  },
  {
   "cell_type": "code",
   "execution_count": 6,
   "id": "14072fff",
   "metadata": {},
   "outputs": [
    {
     "data": {
      "text/plain": [
       "[[1, 2, 3], [4, 5, 6]]"
      ]
     },
     "execution_count": 6,
     "metadata": {},
     "output_type": "execute_result"
    }
   ],
   "source": [
    "lst"
   ]
  },
  {
   "cell_type": "code",
   "execution_count": 3,
   "id": "9fc49fc9",
   "metadata": {},
   "outputs": [],
   "source": [
    "# cria uma matriz com duas linhas e três colunas\n",
    "ary2d = np.array(lst)"
   ]
  },
  {
   "cell_type": "code",
   "execution_count": 4,
   "id": "58e426a9",
   "metadata": {
    "scrolled": true
   },
   "outputs": [
    {
     "data": {
      "text/plain": [
       "array([[1, 2, 3],\n",
       "       [4, 5, 6]])"
      ]
     },
     "execution_count": 4,
     "metadata": {},
     "output_type": "execute_result"
    }
   ],
   "source": [
    "ary2d"
   ]
  },
  {
   "cell_type": "code",
   "execution_count": 5,
   "id": "7ac2f1c9",
   "metadata": {
    "scrolled": true
   },
   "outputs": [
    {
     "data": {
      "text/plain": [
       "dtype('int32')"
      ]
     },
     "execution_count": 5,
     "metadata": {},
     "output_type": "execute_result"
    }
   ],
   "source": [
    "# verifica o tipo dos dados armazenados na matriz\n",
    "ary2d.dtype"
   ]
  },
  {
   "cell_type": "code",
   "execution_count": 7,
   "id": "bbee0088",
   "metadata": {},
   "outputs": [],
   "source": [
    "# converte os dados da matriz para float\n",
    "float32_ary = ary2d.astype(np.float32)"
   ]
  },
  {
   "cell_type": "code",
   "execution_count": 8,
   "id": "0940fda9",
   "metadata": {
    "scrolled": true
   },
   "outputs": [
    {
     "data": {
      "text/plain": [
       "array([[1., 2., 3.],\n",
       "       [4., 5., 6.]], dtype=float32)"
      ]
     },
     "execution_count": 8,
     "metadata": {},
     "output_type": "execute_result"
    }
   ],
   "source": [
    "float32_ary"
   ]
  },
  {
   "cell_type": "code",
   "execution_count": 9,
   "id": "57769bd7",
   "metadata": {
    "scrolled": true
   },
   "outputs": [
    {
     "data": {
      "text/plain": [
       "dtype('float32')"
      ]
     },
     "execution_count": 9,
     "metadata": {},
     "output_type": "execute_result"
    }
   ],
   "source": [
    "float32_ary.dtype"
   ]
  },
  {
   "cell_type": "code",
   "execution_count": 10,
   "id": "3444b165",
   "metadata": {
    "scrolled": true
   },
   "outputs": [
    {
     "data": {
      "text/plain": [
       "6"
      ]
     },
     "execution_count": 10,
     "metadata": {},
     "output_type": "execute_result"
    }
   ],
   "source": [
    "# retorna o número de elementos da matriz\n",
    "ary2d.size"
   ]
  },
  {
   "cell_type": "code",
   "execution_count": 11,
   "id": "18beb7db",
   "metadata": {},
   "outputs": [
    {
     "data": {
      "text/plain": [
       "2"
      ]
     },
     "execution_count": 11,
     "metadata": {},
     "output_type": "execute_result"
    }
   ],
   "source": [
    "# retorna o número de dimensões da matriz\n",
    "ary2d.ndim"
   ]
  },
  {
   "cell_type": "code",
   "execution_count": 12,
   "id": "f3bcfcc9",
   "metadata": {},
   "outputs": [
    {
     "data": {
      "text/plain": [
       "(2, 3)"
      ]
     },
     "execution_count": 12,
     "metadata": {},
     "output_type": "execute_result"
    }
   ],
   "source": [
    "# retorna o número de elementos de cada dimensão da matriz\n",
    "ary2d.shape"
   ]
  },
  {
   "cell_type": "code",
   "execution_count": 14,
   "id": "fcaa3e09",
   "metadata": {},
   "outputs": [
    {
     "data": {
      "text/plain": [
       "(3,)"
      ]
     },
     "execution_count": 14,
     "metadata": {},
     "output_type": "execute_result"
    }
   ],
   "source": [
    "np.array([1, 2, 3]).shape"
   ]
  },
  {
   "cell_type": "markdown",
   "id": "66209219",
   "metadata": {},
   "source": [
    "### 4.1.3 Array Construction Routines"
   ]
  },
  {
   "cell_type": "code",
   "execution_count": 15,
   "id": "9b4d82fe",
   "metadata": {},
   "outputs": [
    {
     "data": {
      "text/plain": [
       "array([[1., 1., 1.],\n",
       "       [1., 1., 1.],\n",
       "       [1., 1., 1.]])"
      ]
     },
     "execution_count": 15,
     "metadata": {},
     "output_type": "execute_result"
    }
   ],
   "source": [
    "# cria uma matriz com 3 linhas e 3 colunas contendo valores \"1\"\n",
    "np.ones((3, 3))"
   ]
  },
  {
   "cell_type": "code",
   "execution_count": 16,
   "id": "6c4b59fb",
   "metadata": {},
   "outputs": [
    {
     "data": {
      "text/plain": [
       "array([[0., 0., 0.],\n",
       "       [0., 0., 0.],\n",
       "       [0., 0., 0.]])"
      ]
     },
     "execution_count": 16,
     "metadata": {},
     "output_type": "execute_result"
    }
   ],
   "source": [
    "# cria uma matriz com 3 linhas e 3 colunas contendo valores \"0\"\n",
    "np.zeros((3, 3))"
   ]
  },
  {
   "cell_type": "code",
   "execution_count": 18,
   "id": "3444bbbf",
   "metadata": {},
   "outputs": [
    {
     "data": {
      "text/plain": [
       "array([[1., 0., 0., 0.],\n",
       "       [0., 1., 0., 0.],\n",
       "       [0., 0., 1., 0.],\n",
       "       [0., 0., 0., 1.]])"
      ]
     },
     "execution_count": 18,
     "metadata": {},
     "output_type": "execute_result"
    }
   ],
   "source": [
    "# cria uma matriz com 3 linhas e 3 colunas contendo valores \"1\" nas diagonais e \"0\" nas outras posições\n",
    "np.eye(3)"
   ]
  },
  {
   "cell_type": "code",
   "execution_count": 20,
   "id": "1ba66f6a",
   "metadata": {},
   "outputs": [
    {
     "data": {
      "text/plain": [
       "array([[3, 0, 0],\n",
       "       [0, 3, 0],\n",
       "       [0, 0, 3]])"
      ]
     },
     "execution_count": 20,
     "metadata": {},
     "output_type": "execute_result"
    }
   ],
   "source": [
    "# cria uma matriz com 3 linhas e 3 colunas contendo valores \"3\" nas diagonais e \"0\" nas outras posições\n",
    "np.diag((3, 3, 3))"
   ]
  },
  {
   "cell_type": "code",
   "execution_count": 21,
   "id": "96999b43",
   "metadata": {},
   "outputs": [
    {
     "data": {
      "text/plain": [
       "array([4., 5., 6., 7., 8., 9.])"
      ]
     },
     "execution_count": 21,
     "metadata": {},
     "output_type": "execute_result"
    }
   ],
   "source": [
    "# cria um array contendo valores entre 4. e 9.\n",
    "np.arange(4., 10.)"
   ]
  },
  {
   "cell_type": "code",
   "execution_count": 22,
   "id": "dd0d3be0",
   "metadata": {},
   "outputs": [
    {
     "data": {
      "text/plain": [
       "array([0, 1, 2, 3, 4])"
      ]
     },
     "execution_count": 22,
     "metadata": {},
     "output_type": "execute_result"
    }
   ],
   "source": [
    "# cria um array contendo valores entre 0 e 4.\n",
    "np.arange(5)"
   ]
  },
  {
   "cell_type": "code",
   "execution_count": 23,
   "id": "ab3e5f7e",
   "metadata": {},
   "outputs": [
    {
     "data": {
      "text/plain": [
       "array([1., 3., 5., 7., 9.])"
      ]
     },
     "execution_count": 23,
     "metadata": {},
     "output_type": "execute_result"
    }
   ],
   "source": [
    "# cria um array contendo valores entre 1. e 10., com intervalo de 2 entre eles.\n",
    "np.arange(1., 11., 2)"
   ]
  },
  {
   "cell_type": "code",
   "execution_count": 24,
   "id": "7ea7bef3",
   "metadata": {},
   "outputs": [
    {
     "data": {
      "text/plain": [
       "array([0.  , 0.25, 0.5 , 0.75, 1.  ])"
      ]
     },
     "execution_count": 24,
     "metadata": {},
     "output_type": "execute_result"
    }
   ],
   "source": [
    "# cria um array contendo 5 valores uniformes entre 0. e 1.\n",
    "np.linspace(0., 1., num=5)"
   ]
  },
  {
   "cell_type": "markdown",
   "id": "283e0bd1",
   "metadata": {},
   "source": [
    "### 4.1.4 Array Indexing"
   ]
  },
  {
   "cell_type": "code",
   "execution_count": 25,
   "id": "85cd10df",
   "metadata": {},
   "outputs": [],
   "source": [
    "ary = np.array([1, 2, 3])"
   ]
  },
  {
   "cell_type": "code",
   "execution_count": 26,
   "id": "a0b33c18",
   "metadata": {},
   "outputs": [
    {
     "data": {
      "text/plain": [
       "1"
      ]
     },
     "execution_count": 26,
     "metadata": {},
     "output_type": "execute_result"
    }
   ],
   "source": [
    "# retorna o valor da posição 0 do array\n",
    "ary[0]"
   ]
  },
  {
   "cell_type": "code",
   "execution_count": 27,
   "id": "6f13dd80",
   "metadata": {},
   "outputs": [
    {
     "data": {
      "text/plain": [
       "array([1, 2])"
      ]
     },
     "execution_count": 27,
     "metadata": {},
     "output_type": "execute_result"
    }
   ],
   "source": [
    "# retorna os valores das 2 primeiras posições do array\n",
    "ary[:2]"
   ]
  },
  {
   "cell_type": "code",
   "execution_count": 28,
   "id": "ee7a16be",
   "metadata": {},
   "outputs": [],
   "source": [
    "ary = np.array([[1, 2, 3], [4, 5, 6]])"
   ]
  },
  {
   "cell_type": "code",
   "execution_count": 30,
   "id": "711fcee0",
   "metadata": {},
   "outputs": [
    {
     "data": {
      "text/plain": [
       "1"
      ]
     },
     "execution_count": 30,
     "metadata": {},
     "output_type": "execute_result"
    }
   ],
   "source": [
    "# retorna o valor da primeira linha e coluna da matriz\n",
    "ary[0, 0]"
   ]
  },
  {
   "cell_type": "code",
   "execution_count": 31,
   "id": "e41daf3f",
   "metadata": {},
   "outputs": [
    {
     "data": {
      "text/plain": [
       "6"
      ]
     },
     "execution_count": 31,
     "metadata": {},
     "output_type": "execute_result"
    }
   ],
   "source": [
    "# retorna o valor da última linha e coluna da matriz\n",
    "ary[-1, -1]"
   ]
  },
  {
   "cell_type": "code",
   "execution_count": 32,
   "id": "27845b15",
   "metadata": {},
   "outputs": [
    {
     "data": {
      "text/plain": [
       "2"
      ]
     },
     "execution_count": 32,
     "metadata": {},
     "output_type": "execute_result"
    }
   ],
   "source": [
    "# retorna o valor da primeira linha e segunda coluna da matriz\n",
    "ary[0, 1]"
   ]
  },
  {
   "cell_type": "code",
   "execution_count": 33,
   "id": "09419535",
   "metadata": {},
   "outputs": [
    {
     "data": {
      "text/plain": [
       "array([1, 2, 3])"
      ]
     },
     "execution_count": 33,
     "metadata": {},
     "output_type": "execute_result"
    }
   ],
   "source": [
    "# retorna os valores da primeira linha da matriz\n",
    "ary[0]"
   ]
  },
  {
   "cell_type": "code",
   "execution_count": 34,
   "id": "3eda9191",
   "metadata": {},
   "outputs": [
    {
     "data": {
      "text/plain": [
       "array([1, 4])"
      ]
     },
     "execution_count": 34,
     "metadata": {},
     "output_type": "execute_result"
    }
   ],
   "source": [
    "# retorna os valores da primeira coluna da matriz\n",
    "ary[:, 0]"
   ]
  },
  {
   "cell_type": "code",
   "execution_count": 35,
   "id": "db097cc2",
   "metadata": {},
   "outputs": [
    {
     "data": {
      "text/plain": [
       "array([[1, 2],\n",
       "       [4, 5]])"
      ]
     },
     "execution_count": 35,
     "metadata": {},
     "output_type": "execute_result"
    }
   ],
   "source": [
    "# retorna os valores das duas primeiras colunas da matriz\n",
    "ary[:, :2]"
   ]
  },
  {
   "cell_type": "code",
   "execution_count": 36,
   "id": "aa779f7d",
   "metadata": {},
   "outputs": [
    {
     "data": {
      "text/plain": [
       "1"
      ]
     },
     "execution_count": 36,
     "metadata": {},
     "output_type": "execute_result"
    }
   ],
   "source": [
    "# retorna o valor da primeira linha e coluna da matriz\n",
    "ary[0, 0]"
   ]
  },
  {
   "cell_type": "markdown",
   "id": "1c2d272c",
   "metadata": {},
   "source": [
    "### 4.1.5 Array Math and Universal Functions"
   ]
  },
  {
   "cell_type": "code",
   "execution_count": 37,
   "id": "f77b53fa",
   "metadata": {},
   "outputs": [],
   "source": [
    "lst = [[1, 2, 3], [4, 5, 6]]"
   ]
  },
  {
   "cell_type": "code",
   "execution_count": 38,
   "id": "ee2c1b1a",
   "metadata": {},
   "outputs": [],
   "source": [
    "# incrementa em 1 o valor de cada elemento da matriz\n",
    "for row_idx, row_val in enumerate(lst):\n",
    "    for col_idx, col_val in enumerate(row_val):\n",
    "        lst[row_idx][col_idx] += 1"
   ]
  },
  {
   "cell_type": "code",
   "execution_count": 39,
   "id": "6cf7ab15",
   "metadata": {},
   "outputs": [
    {
     "data": {
      "text/plain": [
       "[[2, 3, 4], [5, 6, 7]]"
      ]
     },
     "execution_count": 39,
     "metadata": {},
     "output_type": "execute_result"
    }
   ],
   "source": [
    "lst"
   ]
  },
  {
   "cell_type": "code",
   "execution_count": 40,
   "id": "bfa703ea",
   "metadata": {},
   "outputs": [],
   "source": [
    "lst = [[1, 2, 3], [4, 5, 6]]"
   ]
  },
  {
   "cell_type": "code",
   "execution_count": 41,
   "id": "87cace94",
   "metadata": {},
   "outputs": [
    {
     "data": {
      "text/plain": [
       "[[2, 3, 4], [5, 6, 7]]"
      ]
     },
     "execution_count": 41,
     "metadata": {},
     "output_type": "execute_result"
    }
   ],
   "source": [
    "# incrementa em 1 o valor de cada elemento da matriz\n",
    "[[cell + 1 for cell in row] for row in lst]"
   ]
  },
  {
   "cell_type": "code",
   "execution_count": 42,
   "id": "28c9a729",
   "metadata": {},
   "outputs": [],
   "source": [
    "ary = np.array([[1, 2, 3], [4, 5, 6]])"
   ]
  },
  {
   "cell_type": "code",
   "execution_count": 43,
   "id": "79eae99e",
   "metadata": {},
   "outputs": [],
   "source": [
    "# incrementa em 1 o valor de cada elemento da matriz\n",
    "ary = np.add(ary, 1)"
   ]
  },
  {
   "cell_type": "code",
   "execution_count": 44,
   "id": "228da36d",
   "metadata": {},
   "outputs": [
    {
     "data": {
      "text/plain": [
       "array([[2, 3, 4],\n",
       "       [5, 6, 7]])"
      ]
     },
     "execution_count": 44,
     "metadata": {},
     "output_type": "execute_result"
    }
   ],
   "source": [
    "ary"
   ]
  },
  {
   "cell_type": "code",
   "execution_count": 45,
   "id": "21696d34",
   "metadata": {},
   "outputs": [
    {
     "data": {
      "text/plain": [
       "array([[3, 4, 5],\n",
       "       [6, 7, 8]])"
      ]
     },
     "execution_count": 45,
     "metadata": {},
     "output_type": "execute_result"
    }
   ],
   "source": [
    "# incrementa em 1 o valor de cada elemento da matriz\n",
    "ary + 1"
   ]
  },
  {
   "cell_type": "code",
   "execution_count": 46,
   "id": "df99ca5e",
   "metadata": {},
   "outputs": [
    {
     "data": {
      "text/plain": [
       "array([[ 4,  9, 16],\n",
       "       [25, 36, 49]])"
      ]
     },
     "execution_count": 46,
     "metadata": {},
     "output_type": "execute_result"
    }
   ],
   "source": [
    "# multiplica por 2 o valor de cada elemento da matriz\n",
    "ary**2"
   ]
  },
  {
   "cell_type": "code",
   "execution_count": 47,
   "id": "0baddb96",
   "metadata": {},
   "outputs": [],
   "source": [
    "ary = np.array([[1, 2, 3], [4, 5, 6]])"
   ]
  },
  {
   "cell_type": "code",
   "execution_count": 48,
   "id": "3c6a87f8",
   "metadata": {},
   "outputs": [
    {
     "data": {
      "text/plain": [
       "array([5, 7, 9])"
      ]
     },
     "execution_count": 48,
     "metadata": {},
     "output_type": "execute_result"
    }
   ],
   "source": [
    "# retorna a soma dos valores de cada coluna da matriz\n",
    "np.add.reduce(ary)"
   ]
  },
  {
   "cell_type": "code",
   "execution_count": 49,
   "id": "51b3ba8a",
   "metadata": {},
   "outputs": [
    {
     "data": {
      "text/plain": [
       "array([ 6, 15])"
      ]
     },
     "execution_count": 49,
     "metadata": {},
     "output_type": "execute_result"
    }
   ],
   "source": [
    "# retorna a soma dos valores de cada linha da matriz\n",
    "np.add.reduce(ary, axis=1)"
   ]
  },
  {
   "cell_type": "code",
   "execution_count": 50,
   "id": "c6924e8a",
   "metadata": {},
   "outputs": [
    {
     "data": {
      "text/plain": [
       "array([5, 7, 9])"
      ]
     },
     "execution_count": 50,
     "metadata": {},
     "output_type": "execute_result"
    }
   ],
   "source": [
    "# retorna a soma dos valores de cada coluna da matriz\n",
    "ary.sum(axis=0)"
   ]
  },
  {
   "cell_type": "code",
   "execution_count": 51,
   "id": "f01f4226",
   "metadata": {},
   "outputs": [
    {
     "data": {
      "text/plain": [
       "21"
      ]
     },
     "execution_count": 51,
     "metadata": {},
     "output_type": "execute_result"
    }
   ],
   "source": [
    "# retorna a soma dos valores de todos os elementos da matriz\n",
    "ary.sum()"
   ]
  },
  {
   "cell_type": "markdown",
   "id": "5a25d94a",
   "metadata": {},
   "source": [
    "### 4.1.6 Broadcasting"
   ]
  },
  {
   "cell_type": "code",
   "execution_count": 52,
   "id": "bbb69453",
   "metadata": {},
   "outputs": [],
   "source": [
    "ary1 = np.array([1, 2, 3])"
   ]
  },
  {
   "cell_type": "code",
   "execution_count": 57,
   "id": "bd787fab",
   "metadata": {},
   "outputs": [],
   "source": [
    "ary2 = np.array([4, 5, 6])"
   ]
  },
  {
   "cell_type": "code",
   "execution_count": 53,
   "id": "be08e1de",
   "metadata": {},
   "outputs": [
    {
     "data": {
      "text/plain": [
       "array([5, 7, 9])"
      ]
     },
     "execution_count": 53,
     "metadata": {},
     "output_type": "execute_result"
    }
   ],
   "source": [
    "# soma os valores entre os arrays\n",
    "ary1 + ary2"
   ]
  },
  {
   "cell_type": "code",
   "execution_count": 54,
   "id": "4af9d7c4",
   "metadata": {},
   "outputs": [],
   "source": [
    "ary3 = np.array([[4, 5, 6], [7, 8, 9]])"
   ]
  },
  {
   "cell_type": "code",
   "execution_count": 55,
   "id": "1bced959",
   "metadata": {
    "scrolled": true
   },
   "outputs": [
    {
     "data": {
      "text/plain": [
       "array([[ 5,  7,  9],\n",
       "       [ 8, 10, 12]])"
      ]
     },
     "execution_count": 55,
     "metadata": {},
     "output_type": "execute_result"
    }
   ],
   "source": [
    "# soma os valores entre a matriz e o array\n",
    "ary3 + ary1"
   ]
  },
  {
   "cell_type": "markdown",
   "id": "8373ebe8",
   "metadata": {},
   "source": [
    "### 4.1.7 Advanced Indexing { Memory Views and Copies"
   ]
  },
  {
   "cell_type": "code",
   "execution_count": 56,
   "id": "94986fce",
   "metadata": {},
   "outputs": [],
   "source": [
    "ary = np.array([[1, 2, 3], [4, 5, 6]])"
   ]
  },
  {
   "cell_type": "code",
   "execution_count": 58,
   "id": "0b3c9829",
   "metadata": {},
   "outputs": [],
   "source": [
    "# compartilha os valores da primeira linha da matriz para uma nova variavel\n",
    "first_row = ary[0]"
   ]
  },
  {
   "cell_type": "code",
   "execution_count": 59,
   "id": "03fca020",
   "metadata": {},
   "outputs": [],
   "source": [
    "# para o valor de cada elemento da linha é somado 99. Alterações também são refletidas na matriz original\n",
    "first_row += 99"
   ]
  },
  {
   "cell_type": "code",
   "execution_count": 60,
   "id": "8a8be1cd",
   "metadata": {},
   "outputs": [
    {
     "data": {
      "text/plain": [
       "array([[100, 101, 102],\n",
       "       [  4,   5,   6]])"
      ]
     },
     "execution_count": 60,
     "metadata": {},
     "output_type": "execute_result"
    }
   ],
   "source": [
    "ary"
   ]
  },
  {
   "cell_type": "code",
   "execution_count": 61,
   "id": "07bf563b",
   "metadata": {},
   "outputs": [],
   "source": [
    "ary = np.array([[1, 2, 3], [4, 5, 6]])"
   ]
  },
  {
   "cell_type": "code",
   "execution_count": 62,
   "id": "3c27751d",
   "metadata": {},
   "outputs": [],
   "source": [
    "# compartilha os valores da primeira linha da matriz para uma nova variavel\n",
    "first_row = ary[:1]"
   ]
  },
  {
   "cell_type": "code",
   "execution_count": 63,
   "id": "b3523146",
   "metadata": {},
   "outputs": [],
   "source": [
    "# para o valor de cada elemento da linha é somado 99. Alterações também são refletidas na matriz original\n",
    "first_row += 99"
   ]
  },
  {
   "cell_type": "code",
   "execution_count": 64,
   "id": "1089bca0",
   "metadata": {},
   "outputs": [
    {
     "data": {
      "text/plain": [
       "array([[100, 101, 102],\n",
       "       [  4,   5,   6]])"
      ]
     },
     "execution_count": 64,
     "metadata": {},
     "output_type": "execute_result"
    }
   ],
   "source": [
    "ary"
   ]
  },
  {
   "cell_type": "code",
   "execution_count": 65,
   "id": "7f3f8d0a",
   "metadata": {},
   "outputs": [],
   "source": [
    "ary = np.array([[1, 2, 3], [4, 5, 6]])"
   ]
  },
  {
   "cell_type": "code",
   "execution_count": 66,
   "id": "2f716765",
   "metadata": {},
   "outputs": [],
   "source": [
    "# compartilha os valores da segunda coluna da matriz para uma nova variavel\n",
    "center_col = ary[:, 1]"
   ]
  },
  {
   "cell_type": "code",
   "execution_count": 67,
   "id": "fd9b683f",
   "metadata": {},
   "outputs": [],
   "source": [
    "# para o valor de cada elemento da coluna é somado 99. Alterações também são refletidas na matriz original\n",
    "center_col += 99"
   ]
  },
  {
   "cell_type": "code",
   "execution_count": 68,
   "id": "a7877783",
   "metadata": {},
   "outputs": [
    {
     "data": {
      "text/plain": [
       "array([[  1, 101,   3],\n",
       "       [  4, 104,   6]])"
      ]
     },
     "execution_count": 68,
     "metadata": {},
     "output_type": "execute_result"
    }
   ],
   "source": [
    "ary"
   ]
  },
  {
   "cell_type": "code",
   "execution_count": 69,
   "id": "e5daf549",
   "metadata": {},
   "outputs": [],
   "source": [
    "ary = np.array([[1, 2, 3], [4, 5, 6]])"
   ]
  },
  {
   "cell_type": "code",
   "execution_count": 70,
   "id": "190bfd6b",
   "metadata": {},
   "outputs": [],
   "source": [
    "# copia os valores da segunda linha da matriz para uma nova variavel\n",
    "second_row = ary[1].copy()"
   ]
  },
  {
   "cell_type": "code",
   "execution_count": 71,
   "id": "90921243",
   "metadata": {},
   "outputs": [],
   "source": [
    "# para o valor de cada elemento da linha é somado 99. Alterações não são refletidas na matriz original\n",
    "second_row += 99"
   ]
  },
  {
   "cell_type": "code",
   "execution_count": 72,
   "id": "068fb76a",
   "metadata": {},
   "outputs": [
    {
     "data": {
      "text/plain": [
       "array([[1, 2, 3],\n",
       "       [4, 5, 6]])"
      ]
     },
     "execution_count": 72,
     "metadata": {},
     "output_type": "execute_result"
    }
   ],
   "source": [
    "ary"
   ]
  },
  {
   "cell_type": "code",
   "execution_count": 73,
   "id": "b646caf0",
   "metadata": {},
   "outputs": [],
   "source": [
    "ary = np.array([[1, 2, 3], [4, 5, 6]])"
   ]
  },
  {
   "cell_type": "code",
   "execution_count": 74,
   "id": "4e60e15b",
   "metadata": {},
   "outputs": [
    {
     "data": {
      "text/plain": [
       "array([[1, 3],\n",
       "       [4, 6]])"
      ]
     },
     "execution_count": 74,
     "metadata": {},
     "output_type": "execute_result"
    }
   ],
   "source": [
    "ary[:, [0, 2]]"
   ]
  },
  {
   "cell_type": "code",
   "execution_count": 75,
   "id": "85f12bc0",
   "metadata": {},
   "outputs": [],
   "source": [
    "# copia os valores da primeira e última coluna da matriz para uma nova variavel\n",
    "this_is_a_copy = ary[:, [0, 2]]"
   ]
  },
  {
   "cell_type": "code",
   "execution_count": 76,
   "id": "50b215ef",
   "metadata": {},
   "outputs": [],
   "source": [
    "# para o valor de cada elemento da linha é somado 99. Alterações não são refletidas na matriz original\n",
    "this_is_a_copy += 99"
   ]
  },
  {
   "cell_type": "code",
   "execution_count": 77,
   "id": "e19be857",
   "metadata": {},
   "outputs": [
    {
     "data": {
      "text/plain": [
       "array([[1, 2, 3],\n",
       "       [4, 5, 6]])"
      ]
     },
     "execution_count": 77,
     "metadata": {},
     "output_type": "execute_result"
    }
   ],
   "source": [
    "ary"
   ]
  },
  {
   "cell_type": "code",
   "execution_count": 79,
   "id": "146f9208",
   "metadata": {},
   "outputs": [
    {
     "data": {
      "text/plain": [
       "array([[3, 1],\n",
       "       [6, 4]])"
      ]
     },
     "execution_count": 79,
     "metadata": {},
     "output_type": "execute_result"
    }
   ],
   "source": [
    "ary[:, [2, 0]]"
   ]
  },
  {
   "cell_type": "code",
   "execution_count": 80,
   "id": "390c6d4b",
   "metadata": {},
   "outputs": [],
   "source": [
    "ary = np.array([[1, 2, 3], [4, 5, 6]])"
   ]
  },
  {
   "cell_type": "code",
   "execution_count": 81,
   "id": "dd2c40ef",
   "metadata": {},
   "outputs": [],
   "source": [
    "# retorna apenas os elementos que possuem valor maior que 3\n",
    "greater3_mask = ary > 3"
   ]
  },
  {
   "cell_type": "code",
   "execution_count": 82,
   "id": "c363155d",
   "metadata": {},
   "outputs": [
    {
     "data": {
      "text/plain": [
       "array([[False, False, False],\n",
       "       [ True,  True,  True]])"
      ]
     },
     "execution_count": 82,
     "metadata": {},
     "output_type": "execute_result"
    }
   ],
   "source": [
    "greater3_mask"
   ]
  },
  {
   "cell_type": "code",
   "execution_count": 83,
   "id": "e086bcc1",
   "metadata": {},
   "outputs": [
    {
     "data": {
      "text/plain": [
       "array([4, 5, 6])"
      ]
     },
     "execution_count": 83,
     "metadata": {},
     "output_type": "execute_result"
    }
   ],
   "source": [
    "# atribui a condição diretamente na matriz\n",
    "ary[greater3_mask]"
   ]
  },
  {
   "cell_type": "code",
   "execution_count": 84,
   "id": "b3039327",
   "metadata": {},
   "outputs": [
    {
     "data": {
      "text/plain": [
       "array([4, 6])"
      ]
     },
     "execution_count": 84,
     "metadata": {},
     "output_type": "execute_result"
    }
   ],
   "source": [
    "# atribui duas condições diretamente na matriz\n",
    "ary[(ary > 3) & (ary % 2 == 0)]"
   ]
  },
  {
   "cell_type": "markdown",
   "id": "8fdb9613",
   "metadata": {},
   "source": [
    "### 4.1.8 Random Number Generators"
   ]
  },
  {
   "cell_type": "code",
   "execution_count": 98,
   "id": "34112d05",
   "metadata": {},
   "outputs": [],
   "source": [
    "# quantidade de vezes que os números aleatórios se repetirão\n",
    "np.random.seed(123)"
   ]
  },
  {
   "cell_type": "code",
   "execution_count": 99,
   "id": "c600a0e2",
   "metadata": {},
   "outputs": [
    {
     "data": {
      "text/plain": [
       "array([0.69646919, 0.28613933, 0.22685145])"
      ]
     },
     "execution_count": 99,
     "metadata": {},
     "output_type": "execute_result"
    }
   ],
   "source": [
    "# retorna 3 números aleatórios\n",
    "np.random.rand(3)"
   ]
  },
  {
   "cell_type": "code",
   "execution_count": 100,
   "id": "f3fb5532",
   "metadata": {},
   "outputs": [],
   "source": [
    "# quantidade de vezes que os números aleatórios se repetirão\n",
    "rng1 = np.random.RandomState(seed=123)"
   ]
  },
  {
   "cell_type": "code",
   "execution_count": 103,
   "id": "884b8504",
   "metadata": {},
   "outputs": [
    {
     "data": {
      "text/plain": [
       "array([0.55131477, 0.71946897, 0.42310646])"
      ]
     },
     "execution_count": 103,
     "metadata": {},
     "output_type": "execute_result"
    }
   ],
   "source": [
    "# retorna 3 números aleatórios\n",
    "rng1.rand(3)"
   ]
  },
  {
   "cell_type": "markdown",
   "id": "97b4d61e",
   "metadata": {},
   "source": [
    "### 4.1.9 Reshaping Arrays"
   ]
  },
  {
   "cell_type": "code",
   "execution_count": 104,
   "id": "1c33f84d",
   "metadata": {},
   "outputs": [],
   "source": [
    "ary1d = np.array([1, 2, 3, 4, 5, 6])"
   ]
  },
  {
   "cell_type": "code",
   "execution_count": 105,
   "id": "e87b17f3",
   "metadata": {},
   "outputs": [],
   "source": [
    "# transforma o array em uma matriz de 2 linhas e 3 colunas\n",
    "ary2d_view = ary1d.reshape(2, 3)"
   ]
  },
  {
   "cell_type": "code",
   "execution_count": 106,
   "id": "ea8c7e2a",
   "metadata": {},
   "outputs": [
    {
     "data": {
      "text/plain": [
       "array([[1, 2, 3],\n",
       "       [4, 5, 6]])"
      ]
     },
     "execution_count": 106,
     "metadata": {},
     "output_type": "execute_result"
    }
   ],
   "source": [
    "ary2d_view"
   ]
  },
  {
   "cell_type": "code",
   "execution_count": 108,
   "id": "071e532e",
   "metadata": {},
   "outputs": [
    {
     "data": {
      "text/plain": [
       "True"
      ]
     },
     "execution_count": 108,
     "metadata": {},
     "output_type": "execute_result"
    }
   ],
   "source": [
    "# verifica se os dois arrays compartilham memória\n",
    "np.may_share_memory(ary2d_view, ary1d)"
   ]
  },
  {
   "cell_type": "code",
   "execution_count": 109,
   "id": "830aaa7b",
   "metadata": {},
   "outputs": [
    {
     "data": {
      "text/plain": [
       "array([[1, 2, 3],\n",
       "       [4, 5, 6]])"
      ]
     },
     "execution_count": 109,
     "metadata": {},
     "output_type": "execute_result"
    }
   ],
   "source": [
    "# transforma o array em uma matriz de 2 linhas e 3 colunas\n",
    "ary1d.reshape(2, -1)"
   ]
  },
  {
   "cell_type": "code",
   "execution_count": 110,
   "id": "ff39ba23",
   "metadata": {},
   "outputs": [
    {
     "data": {
      "text/plain": [
       "array([[1, 2],\n",
       "       [3, 4],\n",
       "       [5, 6]])"
      ]
     },
     "execution_count": 110,
     "metadata": {},
     "output_type": "execute_result"
    }
   ],
   "source": [
    "# transforma o array em uma matriz de 3 linhas e 2 colunas\n",
    "ary1d.reshape(-1, 2)"
   ]
  },
  {
   "cell_type": "code",
   "execution_count": 111,
   "id": "14852b79",
   "metadata": {},
   "outputs": [],
   "source": [
    "ary = np.array([[[1, 2, 3], [4, 5, 6]]])"
   ]
  },
  {
   "cell_type": "code",
   "execution_count": 112,
   "id": "ccdd2943",
   "metadata": {},
   "outputs": [
    {
     "data": {
      "text/plain": [
       "array([1, 2, 3, 4, 5, 6])"
      ]
     },
     "execution_count": 112,
     "metadata": {},
     "output_type": "execute_result"
    }
   ],
   "source": [
    "# transforma a matriz em um array \n",
    "ary.reshape(-1)"
   ]
  },
  {
   "cell_type": "code",
   "execution_count": 113,
   "id": "f1df6937",
   "metadata": {},
   "outputs": [],
   "source": [
    "ary = np.array([1, 2, 3])"
   ]
  },
  {
   "cell_type": "code",
   "execution_count": 114,
   "id": "abaea9c5",
   "metadata": {},
   "outputs": [
    {
     "data": {
      "text/plain": [
       "array([1, 2, 3, 1, 2, 3])"
      ]
     },
     "execution_count": 114,
     "metadata": {},
     "output_type": "execute_result"
    }
   ],
   "source": [
    "# concatena os dois arrays\n",
    "np.concatenate((ary, ary))"
   ]
  },
  {
   "cell_type": "code",
   "execution_count": 115,
   "id": "d56081ae",
   "metadata": {},
   "outputs": [],
   "source": [
    "ary = np.array([[1, 2, 3]])"
   ]
  },
  {
   "cell_type": "code",
   "execution_count": 116,
   "id": "67625234",
   "metadata": {},
   "outputs": [
    {
     "data": {
      "text/plain": [
       "array([[1, 2, 3],\n",
       "       [1, 2, 3]])"
      ]
     },
     "execution_count": 116,
     "metadata": {},
     "output_type": "execute_result"
    }
   ],
   "source": [
    "# concatena os arrays em linhas\n",
    "np.concatenate((ary, ary), axis=0)"
   ]
  },
  {
   "cell_type": "code",
   "execution_count": 117,
   "id": "c2a6b18a",
   "metadata": {},
   "outputs": [
    {
     "data": {
      "text/plain": [
       "array([[1, 2, 3, 1, 2, 3]])"
      ]
     },
     "execution_count": 117,
     "metadata": {},
     "output_type": "execute_result"
    }
   ],
   "source": [
    "# concatena os arrays em coluna\n",
    "np.concatenate((ary, ary), axis=1)"
   ]
  },
  {
   "cell_type": "markdown",
   "id": "38d7b610",
   "metadata": {},
   "source": [
    "### 4.1.10 Comparison Operators and Masks"
   ]
  },
  {
   "cell_type": "code",
   "execution_count": 118,
   "id": "5878b7e2",
   "metadata": {},
   "outputs": [],
   "source": [
    "ary = np.array([1, 2, 3, 4])"
   ]
  },
  {
   "cell_type": "code",
   "execution_count": 119,
   "id": "7a9bcd02",
   "metadata": {},
   "outputs": [],
   "source": [
    "# compara os valores do array que são maiores que 2\n",
    "mask = ary > 2"
   ]
  },
  {
   "cell_type": "code",
   "execution_count": 120,
   "id": "54fb0512",
   "metadata": {},
   "outputs": [
    {
     "data": {
      "text/plain": [
       "array([False, False,  True,  True])"
      ]
     },
     "execution_count": 120,
     "metadata": {},
     "output_type": "execute_result"
    }
   ],
   "source": [
    "mask"
   ]
  },
  {
   "cell_type": "code",
   "execution_count": 121,
   "id": "3504f2cd",
   "metadata": {},
   "outputs": [
    {
     "data": {
      "text/plain": [
       "array([3, 4])"
      ]
     },
     "execution_count": 121,
     "metadata": {},
     "output_type": "execute_result"
    }
   ],
   "source": [
    "# atribui a codição diretamente ao array e retorna os elementos que atendem a condição\n",
    "ary[mask]"
   ]
  },
  {
   "cell_type": "code",
   "execution_count": 122,
   "id": "3ae494f0",
   "metadata": {},
   "outputs": [
    {
     "data": {
      "text/plain": [
       "array([False, False,  True,  True])"
      ]
     },
     "execution_count": 122,
     "metadata": {},
     "output_type": "execute_result"
    }
   ],
   "source": [
    "mask"
   ]
  },
  {
   "cell_type": "code",
   "execution_count": 123,
   "id": "5084a1b2",
   "metadata": {},
   "outputs": [
    {
     "data": {
      "text/plain": [
       "2"
      ]
     },
     "execution_count": 123,
     "metadata": {},
     "output_type": "execute_result"
    }
   ],
   "source": [
    "# retorna a quantidade de elementos que atendem a condição\n",
    "mask.sum()"
   ]
  },
  {
   "cell_type": "code",
   "execution_count": 124,
   "id": "d2ac1a64",
   "metadata": {},
   "outputs": [
    {
     "data": {
      "text/plain": [
       "array([0, 0, 1, 1])"
      ]
     },
     "execution_count": 124,
     "metadata": {},
     "output_type": "execute_result"
    }
   ],
   "source": [
    "# verifica se valores do array satisfazem condição, se verdadeiro, retorna valores 1, senao 0\n",
    "np.where(ary > 2, 1, 0)"
   ]
  },
  {
   "cell_type": "code",
   "execution_count": 125,
   "id": "4971c396",
   "metadata": {},
   "outputs": [],
   "source": [
    "ary = np.array([1, 2, 3, 4])"
   ]
  },
  {
   "cell_type": "code",
   "execution_count": 126,
   "id": "93a71940",
   "metadata": {},
   "outputs": [],
   "source": [
    "mask = ary > 2"
   ]
  },
  {
   "cell_type": "code",
   "execution_count": 127,
   "id": "9998212b",
   "metadata": {},
   "outputs": [],
   "source": [
    "# atribui 1 a posição do elemento que satisfaça a condição\n",
    "ary[mask] = 1"
   ]
  },
  {
   "cell_type": "code",
   "execution_count": 128,
   "id": "49ba73dc",
   "metadata": {},
   "outputs": [],
   "source": [
    "# atribui 0 a posição do elemento que não satisfaça a condição\n",
    "ary[~mask] = 0"
   ]
  },
  {
   "cell_type": "code",
   "execution_count": 129,
   "id": "a43b57e7",
   "metadata": {},
   "outputs": [
    {
     "data": {
      "text/plain": [
       "array([0, 0, 1, 1])"
      ]
     },
     "execution_count": 129,
     "metadata": {},
     "output_type": "execute_result"
    }
   ],
   "source": [
    "ary"
   ]
  },
  {
   "cell_type": "code",
   "execution_count": 130,
   "id": "4183ed8c",
   "metadata": {},
   "outputs": [],
   "source": [
    "ary = np.array([1, 2, 3, 4])"
   ]
  },
  {
   "cell_type": "code",
   "execution_count": 131,
   "id": "054ae43c",
   "metadata": {},
   "outputs": [
    {
     "data": {
      "text/plain": [
       "array([ True, False, False,  True])"
      ]
     },
     "execution_count": 131,
     "metadata": {},
     "output_type": "execute_result"
    }
   ],
   "source": [
    "# condicional OU\n",
    "(ary > 3) | (ary < 2)"
   ]
  },
  {
   "cell_type": "code",
   "execution_count": 132,
   "id": "46ea6329",
   "metadata": {},
   "outputs": [
    {
     "data": {
      "text/plain": [
       "array([False,  True,  True, False])"
      ]
     },
     "execution_count": 132,
     "metadata": {},
     "output_type": "execute_result"
    }
   ],
   "source": [
    "# negar condicional OU\n",
    "~((ary > 3) | (ary < 2))"
   ]
  },
  {
   "cell_type": "markdown",
   "id": "43f6c4f9",
   "metadata": {},
   "source": [
    "### 4.1.11 Linear Algebra with NumPy Arrays"
   ]
  },
  {
   "cell_type": "code",
   "execution_count": 133,
   "id": "2b0ba5a7",
   "metadata": {},
   "outputs": [],
   "source": [
    "row_vector = np.array([1, 2, 3])"
   ]
  },
  {
   "cell_type": "code",
   "execution_count": 134,
   "id": "19366d64",
   "metadata": {},
   "outputs": [
    {
     "data": {
      "text/plain": [
       "array([1, 2, 3])"
      ]
     },
     "execution_count": 134,
     "metadata": {},
     "output_type": "execute_result"
    }
   ],
   "source": [
    "row_vector"
   ]
  },
  {
   "cell_type": "code",
   "execution_count": 135,
   "id": "d4aace38",
   "metadata": {},
   "outputs": [],
   "source": [
    "# transforma o array de linha em um array de coluna\n",
    "column_vector = np.array([[1, 2, 3]]).reshape(-1, 1)"
   ]
  },
  {
   "cell_type": "code",
   "execution_count": 136,
   "id": "f04b2844",
   "metadata": {},
   "outputs": [
    {
     "data": {
      "text/plain": [
       "array([[1],\n",
       "       [2],\n",
       "       [3]])"
      ]
     },
     "execution_count": 136,
     "metadata": {},
     "output_type": "execute_result"
    }
   ],
   "source": [
    "column_vector"
   ]
  },
  {
   "cell_type": "code",
   "execution_count": 137,
   "id": "e2ee8023",
   "metadata": {},
   "outputs": [
    {
     "data": {
      "text/plain": [
       "array([[1],\n",
       "       [2],\n",
       "       [3]])"
      ]
     },
     "execution_count": 137,
     "metadata": {},
     "output_type": "execute_result"
    }
   ],
   "source": [
    "# transforma o array de linha em um array de coluna\n",
    "row_vector[:, np.newaxis]"
   ]
  },
  {
   "cell_type": "code",
   "execution_count": 138,
   "id": "9603b80b",
   "metadata": {},
   "outputs": [
    {
     "data": {
      "text/plain": [
       "array([[1],\n",
       "       [2],\n",
       "       [3]])"
      ]
     },
     "execution_count": 138,
     "metadata": {},
     "output_type": "execute_result"
    }
   ],
   "source": [
    "# transforma o array de linha em um array de coluna\n",
    "row_vector[:, None]"
   ]
  },
  {
   "cell_type": "code",
   "execution_count": 139,
   "id": "aee10aca",
   "metadata": {},
   "outputs": [],
   "source": [
    "matrix = np.array([[1, 2, 3], [4, 5, 6]])"
   ]
  },
  {
   "cell_type": "code",
   "execution_count": 140,
   "id": "76bd7398",
   "metadata": {},
   "outputs": [
    {
     "data": {
      "text/plain": [
       "array([[14],\n",
       "       [32]])"
      ]
     },
     "execution_count": 140,
     "metadata": {},
     "output_type": "execute_result"
    }
   ],
   "source": [
    "# multiplica valores a matriz pelos valores do array\n",
    "np.matmul(matrix, column_vector)"
   ]
  },
  {
   "cell_type": "code",
   "execution_count": 141,
   "id": "d1e6ccc7",
   "metadata": {},
   "outputs": [
    {
     "data": {
      "text/plain": [
       "array([14, 32])"
      ]
     },
     "execution_count": 141,
     "metadata": {},
     "output_type": "execute_result"
    }
   ],
   "source": [
    "# multiplica valores a matriz pelos valores do array\n",
    "np.matmul(matrix, row_vector)"
   ]
  },
  {
   "cell_type": "code",
   "execution_count": 142,
   "id": "feb0cb85",
   "metadata": {},
   "outputs": [
    {
     "data": {
      "text/plain": [
       "14"
      ]
     },
     "execution_count": 142,
     "metadata": {},
     "output_type": "execute_result"
    }
   ],
   "source": [
    "# multiplica os valores entre os arrays, normalizado\n",
    "np.matmul(row_vector, row_vector)"
   ]
  },
  {
   "cell_type": "code",
   "execution_count": 143,
   "id": "0ab15b5d",
   "metadata": {},
   "outputs": [
    {
     "data": {
      "text/plain": [
       "14"
      ]
     },
     "execution_count": 143,
     "metadata": {},
     "output_type": "execute_result"
    }
   ],
   "source": [
    "# multiplica os valores entre os arrays, normalizado\n",
    "np.dot(row_vector, row_vector)"
   ]
  },
  {
   "cell_type": "code",
   "execution_count": 144,
   "id": "9f45fe5f",
   "metadata": {},
   "outputs": [
    {
     "data": {
      "text/plain": [
       "array([14, 32])"
      ]
     },
     "execution_count": 144,
     "metadata": {},
     "output_type": "execute_result"
    }
   ],
   "source": [
    "# multiplica valores a matriz pelos valores do array\n",
    "np.dot(matrix, row_vector)"
   ]
  },
  {
   "cell_type": "code",
   "execution_count": 145,
   "id": "44fc2f4f",
   "metadata": {},
   "outputs": [
    {
     "data": {
      "text/plain": [
       "array([[14],\n",
       "       [32]])"
      ]
     },
     "execution_count": 145,
     "metadata": {},
     "output_type": "execute_result"
    }
   ],
   "source": [
    "# multiplica valores a matriz pelos valores do array\n",
    "np.dot(matrix, column_vector)"
   ]
  },
  {
   "cell_type": "code",
   "execution_count": 146,
   "id": "ad50d9cc",
   "metadata": {},
   "outputs": [],
   "source": [
    "matrix = np.array([[1, 2, 3], [4, 5, 6]])"
   ]
  },
  {
   "cell_type": "code",
   "execution_count": 147,
   "id": "193bc00e",
   "metadata": {},
   "outputs": [
    {
     "data": {
      "text/plain": [
       "array([[1, 4],\n",
       "       [2, 5],\n",
       "       [3, 6]])"
      ]
     },
     "execution_count": 147,
     "metadata": {},
     "output_type": "execute_result"
    }
   ],
   "source": [
    "# inverte a matriz\n",
    "matrix.transpose()"
   ]
  },
  {
   "cell_type": "code",
   "execution_count": 148,
   "id": "dbe69f54",
   "metadata": {},
   "outputs": [
    {
     "data": {
      "text/plain": [
       "array([[14, 32],\n",
       "       [32, 77]])"
      ]
     },
     "execution_count": 148,
     "metadata": {},
     "output_type": "execute_result"
    }
   ],
   "source": [
    "# multiplica valores a matriz pela matriz invertida\n",
    "np.matmul(matrix, matrix.transpose())"
   ]
  },
  {
   "cell_type": "code",
   "execution_count": 149,
   "id": "a19770f3",
   "metadata": {},
   "outputs": [
    {
     "data": {
      "text/plain": [
       "array([[1, 4],\n",
       "       [2, 5],\n",
       "       [3, 6]])"
      ]
     },
     "execution_count": 149,
     "metadata": {},
     "output_type": "execute_result"
    }
   ],
   "source": [
    "# inverte a matriz\n",
    "matrix.T"
   ]
  },
  {
   "cell_type": "markdown",
   "id": "945f9e01",
   "metadata": {},
   "source": [
    "## 4.3 Matplotlib"
   ]
  },
  {
   "cell_type": "code",
   "execution_count": 150,
   "id": "e55ad459",
   "metadata": {},
   "outputs": [],
   "source": [
    "# importa a biblioteca do Matplotlib\n",
    "%matplotlib inline\n",
    "import matplotlib.pyplot as plt"
   ]
  },
  {
   "cell_type": "markdown",
   "id": "4ab5c6c8",
   "metadata": {},
   "source": [
    "### 4.3.1 Plotting Functions and Lines"
   ]
  },
  {
   "cell_type": "code",
   "execution_count": 154,
   "id": "dd8f6955",
   "metadata": {},
   "outputs": [
    {
     "data": {
      "image/png": "[encoded data removed]",
      "text/plain": [
       "<Figure size 640x480 with 1 Axes>"
      ]
     },
     "metadata": {},
     "output_type": "display_data"
    }
   ],
   "source": [
    "x = np.linspace(0, 10, 100)\n",
    "plt.plot(x, np.sin(x))\n",
    "plt.show()"
   ]
  },
  {
   "cell_type": "code",
   "execution_count": 152,
   "id": "ee7830c5",
   "metadata": {},
   "outputs": [
    {
     "data": {
      "image/png": "[encoded data removed]",
      "text/plain": [
       "<Figure size 640x480 with 1 Axes>"
      ]
     },
     "metadata": {},
     "output_type": "display_data"
    }
   ],
   "source": [
    "x = np.linspace(0, 10, 100)\n",
    "plt.plot(x, np.sin(x))\n",
    "plt.xlim([2, 8])\n",
    "plt.ylim([0, 0.75])\n",
    "plt.xlabel('x-axis')\n",
    "plt.ylabel('y-axis')\n",
    "plt.show()"
   ]
  },
  {
   "cell_type": "code",
   "execution_count": 155,
   "id": "c73c0105",
   "metadata": {},
   "outputs": [
    {
     "data": {
      "image/png": "[encoded data removed]",
      "text/plain": [
       "<Figure size 640x480 with 1 Axes>"
      ]
     },
     "metadata": {},
     "output_type": "display_data"
    }
   ],
   "source": [
    "x = np.linspace(0, 10, 100)\n",
    "plt.plot(x, np.sin(x), label=('sin(x)'))\n",
    "plt.plot(x, np.cos(x), label=('cos(x)'))\n",
    "plt.ylabel('f(x)')\n",
    "plt.xlabel('x')\n",
    "plt.legend(loc='lower left')\n",
    "plt.show()"
   ]
  },
  {
   "cell_type": "markdown",
   "id": "32e0bc2d",
   "metadata": {},
   "source": [
    "### 4.3.2 Scatter Plots"
   ]
  },
  {
   "cell_type": "code",
   "execution_count": 156,
   "id": "aec620c4",
   "metadata": {},
   "outputs": [
    {
     "data": {
      "image/png": "[encoded data removed]",
      "text/plain": [
       "<Figure size 640x480 with 1 Axes>"
      ]
     },
     "metadata": {},
     "output_type": "display_data"
    }
   ],
   "source": [
    "rng = np.random.RandomState(123)\n",
    "x = rng.normal(size=500)\n",
    "y = rng.normal(size=500)\n",
    "plt.scatter(x, y)\n",
    "plt.show()"
   ]
  },
  {
   "cell_type": "markdown",
   "id": "c769dd4d",
   "metadata": {},
   "source": [
    "### 4.3.3 Bar Plots"
   ]
  },
  {
   "cell_type": "code",
   "execution_count": 157,
   "id": "aa8a43dc",
   "metadata": {},
   "outputs": [
    {
     "data": {
      "image/png": "[encoded data removed]",
      "text/plain": [
       "<Figure size 640x480 with 1 Axes>"
      ]
     },
     "metadata": {},
     "output_type": "display_data"
    }
   ],
   "source": [
    "# input data\n",
    "means = [1, 2, 3]\n",
    "stddevs = [0.2, 0.4, 0.5]\n",
    "bar_labels = ['bar 1', 'bar 2', 'bar 3']\n",
    "# plot bars\n",
    "x_pos = list(range(len(bar_labels)))\n",
    "plt.bar(x_pos, means, yerr=stddevs)\n",
    "plt.show()"
   ]
  },
  {
   "cell_type": "markdown",
   "id": "30d02f10",
   "metadata": {},
   "source": [
    "### 4.3.4 Histograms"
   ]
  },
  {
   "cell_type": "code",
   "execution_count": 158,
   "id": "1e291090",
   "metadata": {},
   "outputs": [
    {
     "data": {
      "image/png": "[encoded data removed]",
      "text/plain": [
       "<Figure size 640x480 with 1 Axes>"
      ]
     },
     "metadata": {},
     "output_type": "display_data"
    }
   ],
   "source": [
    "rng = np.random.RandomState(123)\n",
    "x = rng.normal(0, 20, 1000)\n",
    "# fixed bin size\n",
    "bins = np.arange(-100, 100, 5) # fixed bin size\n",
    "plt.hist(x, bins=bins)\n",
    "plt.show()"
   ]
  },
  {
   "cell_type": "code",
   "execution_count": 159,
   "id": "68407f5e",
   "metadata": {},
   "outputs": [
    {
     "data": {
      "image/png": "[encoded data removed]",
      "text/plain": [
       "<Figure size 640x480 with 1 Axes>"
      ]
     },
     "metadata": {},
     "output_type": "display_data"
    }
   ],
   "source": [
    "rng = np.random.RandomState(123)\n",
    "x1 = rng.normal(0, 20, 1000)\n",
    "x2 = rng.normal(15, 10, 1000)\n",
    "# fixed bin size\n",
    "bins = np.arange(-100, 100, 5) # fixed bin size\n",
    "plt.hist(x1, bins=bins, alpha=0.5)\n",
    "plt.hist(x2, bins=bins, alpha=0.5)\n",
    "plt.show()"
   ]
  },
  {
   "cell_type": "markdown",
   "id": "ea851706",
   "metadata": {},
   "source": [
    "### 4.3.5 Subplots"
   ]
  },
  {
   "cell_type": "code",
   "execution_count": 161,
   "id": "f57da718",
   "metadata": {},
   "outputs": [
    {
     "data": {
      "image/png": "[encoded data removed]",
      "text/plain": [
       "<Figure size 640x480 with 6 Axes>"
      ]
     },
     "metadata": {},
     "output_type": "display_data"
    }
   ],
   "source": [
    "import matplotlib.pyplot as plt\n",
    "x = range(11)\n",
    "y = range(11)\n",
    "fig, ax = plt.subplots(nrows=2, ncols=3, sharex=True, sharey=True)\n",
    "for row in ax:\n",
    "    for col in row:\n",
    "        col.plot(x, y)\n",
    "plt.show()"
   ]
  },
  {
   "cell_type": "markdown",
   "id": "fa1ba38d",
   "metadata": {},
   "source": [
    "### 4.3.6 Colors and Markers"
   ]
  },
  {
   "cell_type": "code",
   "execution_count": 163,
   "id": "86384df7",
   "metadata": {},
   "outputs": [
    {
     "data": {
      "image/png": "[encoded data removed]",
      "text/plain": [
       "<Figure size 640x480 with 1 Axes>"
      ]
     },
     "metadata": {},
     "output_type": "display_data"
    }
   ],
   "source": [
    "x = np.linspace(0, 10, 100)\n",
    "plt.plot(x, np.sin(x), color='orange', marker='^', linestyle='')\n",
    "plt.show()"
   ]
  },
  {
   "cell_type": "markdown",
   "id": "524cfdc0",
   "metadata": {},
   "source": [
    "### 4.3.7 Saving Plots"
   ]
  },
  {
   "cell_type": "code",
   "execution_count": 164,
   "id": "fd4e11cf",
   "metadata": {},
   "outputs": [
    {
     "data": {
      "image/png": "[encoded data removed]",
      "text/plain": [
       "<Figure size 640x480 with 1 Axes>"
      ]
     },
     "metadata": {},
     "output_type": "display_data"
    }
   ],
   "source": [
    "x = np.linspace(0, 10, 100)\n",
    "plt.plot(x, np.sin(x))\n",
    "plt.savefig('myplot.png', dpi=300)\n",
    "plt.savefig('myplot.pdf')\n",
    "plt.show()"
   ]
  }
 ],
 "metadata": {
  "kernelspec": {
   "display_name": "Python 3 (ipykernel)",
   "language": "python",
   "name": "python3"
  },
  "language_info": {
   "codemirror_mode": {
    "name": "ipython",
    "version": 3
   },
   "file_extension": ".py",
   "mimetype": "text/x-python",
   "name": "python",
   "nbconvert_exporter": "python",
   "pygments_lexer": "ipython3",
   "version": "3.9.15"
  }
 },
 "nbformat": 4,
 "nbformat_minor": 5
}
