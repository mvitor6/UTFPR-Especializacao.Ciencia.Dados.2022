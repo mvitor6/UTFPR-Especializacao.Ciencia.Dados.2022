{
 "cells": [
  {
   "cell_type": "markdown",
   "metadata": {
    "id": "kX-ucI4cF-KI"
   },
   "source": [
    "# L11 - Introdução a seleção de modelos"
   ]
  },
  {
   "cell_type": "markdown",
   "metadata": {},
   "source": [
    "Importando as bibliotecas"
   ]
  },
  {
   "cell_type": "code",
   "execution_count": 112,
   "metadata": {
    "executionInfo": {
     "elapsed": 710,
     "status": "ok",
     "timestamp": 1602095607728,
     "user": {
      "displayName": "Dalcimar Casanova",
      "photoUrl": "https://lh3.googleusercontent.com/a-/AOh14GgZzFT0FCo6nTJjXLoCVlWF617XKFK9oco_RLrc-A=s64",
      "userId": "01490701818826847808"
     },
     "user_tz": 180
    },
    "id": "eK85714z7pDB"
   },
   "outputs": [],
   "source": [
    "import numpy as np\n",
    "import pandas as pd\n",
    "\n",
    "from sklearn import datasets\n",
    "from sklearn.decomposition import PCA\n",
    "from sklearn.model_selection import GridSearchCV\n",
    "from sklearn.pipeline import Pipeline\n",
    "from sklearn.neighbors import KNeighborsClassifier\n",
    "from sklearn.preprocessing import StandardScaler\n",
    "from sklearn.model_selection import train_test_split"
   ]
  },
  {
   "cell_type": "markdown",
   "metadata": {},
   "source": [
    "Atribuindo a um DataFrame os dados do arquivo .csv"
   ]
  },
  {
   "cell_type": "code",
   "execution_count": 113,
   "metadata": {
    "executionInfo": {
     "elapsed": 654,
     "status": "ok",
     "timestamp": 1602095826493,
     "user": {
      "displayName": "Dalcimar Casanova",
      "photoUrl": "https://lh3.googleusercontent.com/a-/AOh14GgZzFT0FCo6nTJjXLoCVlWF617XKFK9oco_RLrc-A=s64",
      "userId": "01490701818826847808"
     },
     "user_tz": 180
    },
    "id": "0_L1E_lI8kqS",
    "scrolled": true
   },
   "outputs": [
    {
     "data": {
      "text/html": [
       "<div>\n",
       "<style scoped>\n",
       "    .dataframe tbody tr th:only-of-type {\n",
       "        vertical-align: middle;\n",
       "    }\n",
       "\n",
       "    .dataframe tbody tr th {\n",
       "        vertical-align: top;\n",
       "    }\n",
       "\n",
       "    .dataframe thead th {\n",
       "        text-align: right;\n",
       "    }\n",
       "</style>\n",
       "<table border=\"1\" class=\"dataframe\">\n",
       "  <thead>\n",
       "    <tr style=\"text-align: right;\">\n",
       "      <th></th>\n",
       "      <th>sample_id</th>\n",
       "      <th>mean_radius</th>\n",
       "      <th>mean_texture</th>\n",
       "      <th>mean_perimeter</th>\n",
       "      <th>mean_area</th>\n",
       "      <th>mean_smoothness</th>\n",
       "      <th>mean_compactness</th>\n",
       "      <th>mean_concavity</th>\n",
       "      <th>mean_concave_points</th>\n",
       "      <th>mean_symmetry</th>\n",
       "      <th>...</th>\n",
       "      <th>worst_texture</th>\n",
       "      <th>worst_perimeter</th>\n",
       "      <th>worst_area</th>\n",
       "      <th>worst_smoothness</th>\n",
       "      <th>worst_compactness</th>\n",
       "      <th>worst_concavity</th>\n",
       "      <th>worst_concave_points</th>\n",
       "      <th>worst_symmetry</th>\n",
       "      <th>worst_fractal_dimension</th>\n",
       "      <th>diagnosis</th>\n",
       "    </tr>\n",
       "  </thead>\n",
       "  <tbody>\n",
       "    <tr>\n",
       "      <th>0</th>\n",
       "      <td>842302</td>\n",
       "      <td>17.99</td>\n",
       "      <td>10.38</td>\n",
       "      <td>122.80</td>\n",
       "      <td>1001.0</td>\n",
       "      <td>0.11840</td>\n",
       "      <td>0.27760</td>\n",
       "      <td>0.3001</td>\n",
       "      <td>0.14710</td>\n",
       "      <td>0.2419</td>\n",
       "      <td>...</td>\n",
       "      <td>17.33</td>\n",
       "      <td>184.60</td>\n",
       "      <td>2019.0</td>\n",
       "      <td>0.1622</td>\n",
       "      <td>0.6656</td>\n",
       "      <td>0.7119</td>\n",
       "      <td>0.2654</td>\n",
       "      <td>0.4601</td>\n",
       "      <td>0.11890</td>\n",
       "      <td>malignant</td>\n",
       "    </tr>\n",
       "    <tr>\n",
       "      <th>1</th>\n",
       "      <td>842517</td>\n",
       "      <td>20.57</td>\n",
       "      <td>17.77</td>\n",
       "      <td>132.90</td>\n",
       "      <td>1326.0</td>\n",
       "      <td>0.08474</td>\n",
       "      <td>0.07864</td>\n",
       "      <td>0.0869</td>\n",
       "      <td>0.07017</td>\n",
       "      <td>0.1812</td>\n",
       "      <td>...</td>\n",
       "      <td>23.41</td>\n",
       "      <td>158.80</td>\n",
       "      <td>1956.0</td>\n",
       "      <td>0.1238</td>\n",
       "      <td>0.1866</td>\n",
       "      <td>0.2416</td>\n",
       "      <td>0.1860</td>\n",
       "      <td>0.2750</td>\n",
       "      <td>0.08902</td>\n",
       "      <td>malignant</td>\n",
       "    </tr>\n",
       "    <tr>\n",
       "      <th>2</th>\n",
       "      <td>84300903</td>\n",
       "      <td>19.69</td>\n",
       "      <td>21.25</td>\n",
       "      <td>130.00</td>\n",
       "      <td>1203.0</td>\n",
       "      <td>0.10960</td>\n",
       "      <td>0.15990</td>\n",
       "      <td>0.1974</td>\n",
       "      <td>0.12790</td>\n",
       "      <td>0.2069</td>\n",
       "      <td>...</td>\n",
       "      <td>25.53</td>\n",
       "      <td>152.50</td>\n",
       "      <td>1709.0</td>\n",
       "      <td>0.1444</td>\n",
       "      <td>0.4245</td>\n",
       "      <td>0.4504</td>\n",
       "      <td>0.2430</td>\n",
       "      <td>0.3613</td>\n",
       "      <td>0.08758</td>\n",
       "      <td>malignant</td>\n",
       "    </tr>\n",
       "    <tr>\n",
       "      <th>3</th>\n",
       "      <td>84348301</td>\n",
       "      <td>11.42</td>\n",
       "      <td>20.38</td>\n",
       "      <td>77.58</td>\n",
       "      <td>386.1</td>\n",
       "      <td>0.14250</td>\n",
       "      <td>0.28390</td>\n",
       "      <td>0.2414</td>\n",
       "      <td>0.10520</td>\n",
       "      <td>0.2597</td>\n",
       "      <td>...</td>\n",
       "      <td>26.50</td>\n",
       "      <td>98.87</td>\n",
       "      <td>567.7</td>\n",
       "      <td>0.2098</td>\n",
       "      <td>0.8663</td>\n",
       "      <td>0.6869</td>\n",
       "      <td>0.2575</td>\n",
       "      <td>0.6638</td>\n",
       "      <td>0.17300</td>\n",
       "      <td>malignant</td>\n",
       "    </tr>\n",
       "    <tr>\n",
       "      <th>4</th>\n",
       "      <td>84358402</td>\n",
       "      <td>20.29</td>\n",
       "      <td>14.34</td>\n",
       "      <td>135.10</td>\n",
       "      <td>1297.0</td>\n",
       "      <td>0.10030</td>\n",
       "      <td>0.13280</td>\n",
       "      <td>0.1980</td>\n",
       "      <td>0.10430</td>\n",
       "      <td>0.1809</td>\n",
       "      <td>...</td>\n",
       "      <td>16.67</td>\n",
       "      <td>152.20</td>\n",
       "      <td>1575.0</td>\n",
       "      <td>0.1374</td>\n",
       "      <td>0.2050</td>\n",
       "      <td>0.4000</td>\n",
       "      <td>0.1625</td>\n",
       "      <td>0.2364</td>\n",
       "      <td>0.07678</td>\n",
       "      <td>malignant</td>\n",
       "    </tr>\n",
       "  </tbody>\n",
       "</table>\n",
       "<p>5 rows × 32 columns</p>\n",
       "</div>"
      ],
      "text/plain": [
       "   sample_id  mean_radius  mean_texture  mean_perimeter  mean_area  \\\n",
       "0     842302        17.99         10.38          122.80     1001.0   \n",
       "1     842517        20.57         17.77          132.90     1326.0   \n",
       "2   84300903        19.69         21.25          130.00     1203.0   \n",
       "3   84348301        11.42         20.38           77.58      386.1   \n",
       "4   84358402        20.29         14.34          135.10     1297.0   \n",
       "\n",
       "   mean_smoothness  mean_compactness  mean_concavity  mean_concave_points  \\\n",
       "0          0.11840           0.27760          0.3001              0.14710   \n",
       "1          0.08474           0.07864          0.0869              0.07017   \n",
       "2          0.10960           0.15990          0.1974              0.12790   \n",
       "3          0.14250           0.28390          0.2414              0.10520   \n",
       "4          0.10030           0.13280          0.1980              0.10430   \n",
       "\n",
       "   mean_symmetry  ...  worst_texture  worst_perimeter  worst_area  \\\n",
       "0         0.2419  ...          17.33           184.60      2019.0   \n",
       "1         0.1812  ...          23.41           158.80      1956.0   \n",
       "2         0.2069  ...          25.53           152.50      1709.0   \n",
       "3         0.2597  ...          26.50            98.87       567.7   \n",
       "4         0.1809  ...          16.67           152.20      1575.0   \n",
       "\n",
       "   worst_smoothness  worst_compactness  worst_concavity  worst_concave_points  \\\n",
       "0            0.1622             0.6656           0.7119                0.2654   \n",
       "1            0.1238             0.1866           0.2416                0.1860   \n",
       "2            0.1444             0.4245           0.4504                0.2430   \n",
       "3            0.2098             0.8663           0.6869                0.2575   \n",
       "4            0.1374             0.2050           0.4000                0.1625   \n",
       "\n",
       "   worst_symmetry  worst_fractal_dimension  diagnosis  \n",
       "0          0.4601                  0.11890  malignant  \n",
       "1          0.2750                  0.08902  malignant  \n",
       "2          0.3613                  0.08758  malignant  \n",
       "3          0.6638                  0.17300  malignant  \n",
       "4          0.2364                  0.07678  malignant  \n",
       "\n",
       "[5 rows x 32 columns]"
      ]
     },
     "execution_count": 113,
     "metadata": {},
     "output_type": "execute_result"
    }
   ],
   "source": [
    "df = pd.read_csv('https://raw.githubusercontent.com/jefferson-oliva/databases/main/breast_cancer.csv')\n",
    "df.head()"
   ]
  },
  {
   "cell_type": "markdown",
   "metadata": {},
   "source": [
    "Verificando a quantidade de linhas e colunas do DataFrame"
   ]
  },
  {
   "cell_type": "code",
   "execution_count": 114,
   "metadata": {},
   "outputs": [
    {
     "data": {
      "text/plain": [
       "(569, 32)"
      ]
     },
     "execution_count": 114,
     "metadata": {},
     "output_type": "execute_result"
    }
   ],
   "source": [
    "df.shape"
   ]
  },
  {
   "cell_type": "markdown",
   "metadata": {},
   "source": [
    "Verificando quais os valores distintos da coluna \"diagnosis\""
   ]
  },
  {
   "cell_type": "code",
   "execution_count": 115,
   "metadata": {},
   "outputs": [
    {
     "data": {
      "text/plain": [
       "array(['malignant', 'benign'], dtype=object)"
      ]
     },
     "execution_count": 115,
     "metadata": {},
     "output_type": "execute_result"
    }
   ],
   "source": [
    "df['diagnosis'].unique()"
   ]
  },
  {
   "cell_type": "markdown",
   "metadata": {},
   "source": [
    "Criando um dicionário onde são armazenados valores númericos para cada valor distinto da coluna \"diagnosis\" e substituindo os dados da coluna original do DataFrame pelos valores armazenados no dicionário"
   ]
  },
  {
   "cell_type": "code",
   "execution_count": 116,
   "metadata": {},
   "outputs": [
    {
     "data": {
      "text/html": [
       "<div>\n",
       "<style scoped>\n",
       "    .dataframe tbody tr th:only-of-type {\n",
       "        vertical-align: middle;\n",
       "    }\n",
       "\n",
       "    .dataframe tbody tr th {\n",
       "        vertical-align: top;\n",
       "    }\n",
       "\n",
       "    .dataframe thead th {\n",
       "        text-align: right;\n",
       "    }\n",
       "</style>\n",
       "<table border=\"1\" class=\"dataframe\">\n",
       "  <thead>\n",
       "    <tr style=\"text-align: right;\">\n",
       "      <th></th>\n",
       "      <th>sample_id</th>\n",
       "      <th>mean_radius</th>\n",
       "      <th>mean_texture</th>\n",
       "      <th>mean_perimeter</th>\n",
       "      <th>mean_area</th>\n",
       "      <th>mean_smoothness</th>\n",
       "      <th>mean_compactness</th>\n",
       "      <th>mean_concavity</th>\n",
       "      <th>mean_concave_points</th>\n",
       "      <th>mean_symmetry</th>\n",
       "      <th>...</th>\n",
       "      <th>worst_texture</th>\n",
       "      <th>worst_perimeter</th>\n",
       "      <th>worst_area</th>\n",
       "      <th>worst_smoothness</th>\n",
       "      <th>worst_compactness</th>\n",
       "      <th>worst_concavity</th>\n",
       "      <th>worst_concave_points</th>\n",
       "      <th>worst_symmetry</th>\n",
       "      <th>worst_fractal_dimension</th>\n",
       "      <th>diagnosis</th>\n",
       "    </tr>\n",
       "  </thead>\n",
       "  <tbody>\n",
       "    <tr>\n",
       "      <th>0</th>\n",
       "      <td>842302</td>\n",
       "      <td>17.99</td>\n",
       "      <td>10.38</td>\n",
       "      <td>122.80</td>\n",
       "      <td>1001.0</td>\n",
       "      <td>0.11840</td>\n",
       "      <td>0.27760</td>\n",
       "      <td>0.3001</td>\n",
       "      <td>0.14710</td>\n",
       "      <td>0.2419</td>\n",
       "      <td>...</td>\n",
       "      <td>17.33</td>\n",
       "      <td>184.60</td>\n",
       "      <td>2019.0</td>\n",
       "      <td>0.1622</td>\n",
       "      <td>0.6656</td>\n",
       "      <td>0.7119</td>\n",
       "      <td>0.2654</td>\n",
       "      <td>0.4601</td>\n",
       "      <td>0.11890</td>\n",
       "      <td>1</td>\n",
       "    </tr>\n",
       "    <tr>\n",
       "      <th>1</th>\n",
       "      <td>842517</td>\n",
       "      <td>20.57</td>\n",
       "      <td>17.77</td>\n",
       "      <td>132.90</td>\n",
       "      <td>1326.0</td>\n",
       "      <td>0.08474</td>\n",
       "      <td>0.07864</td>\n",
       "      <td>0.0869</td>\n",
       "      <td>0.07017</td>\n",
       "      <td>0.1812</td>\n",
       "      <td>...</td>\n",
       "      <td>23.41</td>\n",
       "      <td>158.80</td>\n",
       "      <td>1956.0</td>\n",
       "      <td>0.1238</td>\n",
       "      <td>0.1866</td>\n",
       "      <td>0.2416</td>\n",
       "      <td>0.1860</td>\n",
       "      <td>0.2750</td>\n",
       "      <td>0.08902</td>\n",
       "      <td>1</td>\n",
       "    </tr>\n",
       "    <tr>\n",
       "      <th>2</th>\n",
       "      <td>84300903</td>\n",
       "      <td>19.69</td>\n",
       "      <td>21.25</td>\n",
       "      <td>130.00</td>\n",
       "      <td>1203.0</td>\n",
       "      <td>0.10960</td>\n",
       "      <td>0.15990</td>\n",
       "      <td>0.1974</td>\n",
       "      <td>0.12790</td>\n",
       "      <td>0.2069</td>\n",
       "      <td>...</td>\n",
       "      <td>25.53</td>\n",
       "      <td>152.50</td>\n",
       "      <td>1709.0</td>\n",
       "      <td>0.1444</td>\n",
       "      <td>0.4245</td>\n",
       "      <td>0.4504</td>\n",
       "      <td>0.2430</td>\n",
       "      <td>0.3613</td>\n",
       "      <td>0.08758</td>\n",
       "      <td>1</td>\n",
       "    </tr>\n",
       "    <tr>\n",
       "      <th>3</th>\n",
       "      <td>84348301</td>\n",
       "      <td>11.42</td>\n",
       "      <td>20.38</td>\n",
       "      <td>77.58</td>\n",
       "      <td>386.1</td>\n",
       "      <td>0.14250</td>\n",
       "      <td>0.28390</td>\n",
       "      <td>0.2414</td>\n",
       "      <td>0.10520</td>\n",
       "      <td>0.2597</td>\n",
       "      <td>...</td>\n",
       "      <td>26.50</td>\n",
       "      <td>98.87</td>\n",
       "      <td>567.7</td>\n",
       "      <td>0.2098</td>\n",
       "      <td>0.8663</td>\n",
       "      <td>0.6869</td>\n",
       "      <td>0.2575</td>\n",
       "      <td>0.6638</td>\n",
       "      <td>0.17300</td>\n",
       "      <td>1</td>\n",
       "    </tr>\n",
       "    <tr>\n",
       "      <th>4</th>\n",
       "      <td>84358402</td>\n",
       "      <td>20.29</td>\n",
       "      <td>14.34</td>\n",
       "      <td>135.10</td>\n",
       "      <td>1297.0</td>\n",
       "      <td>0.10030</td>\n",
       "      <td>0.13280</td>\n",
       "      <td>0.1980</td>\n",
       "      <td>0.10430</td>\n",
       "      <td>0.1809</td>\n",
       "      <td>...</td>\n",
       "      <td>16.67</td>\n",
       "      <td>152.20</td>\n",
       "      <td>1575.0</td>\n",
       "      <td>0.1374</td>\n",
       "      <td>0.2050</td>\n",
       "      <td>0.4000</td>\n",
       "      <td>0.1625</td>\n",
       "      <td>0.2364</td>\n",
       "      <td>0.07678</td>\n",
       "      <td>1</td>\n",
       "    </tr>\n",
       "  </tbody>\n",
       "</table>\n",
       "<p>5 rows × 32 columns</p>\n",
       "</div>"
      ],
      "text/plain": [
       "   sample_id  mean_radius  mean_texture  mean_perimeter  mean_area  \\\n",
       "0     842302        17.99         10.38          122.80     1001.0   \n",
       "1     842517        20.57         17.77          132.90     1326.0   \n",
       "2   84300903        19.69         21.25          130.00     1203.0   \n",
       "3   84348301        11.42         20.38           77.58      386.1   \n",
       "4   84358402        20.29         14.34          135.10     1297.0   \n",
       "\n",
       "   mean_smoothness  mean_compactness  mean_concavity  mean_concave_points  \\\n",
       "0          0.11840           0.27760          0.3001              0.14710   \n",
       "1          0.08474           0.07864          0.0869              0.07017   \n",
       "2          0.10960           0.15990          0.1974              0.12790   \n",
       "3          0.14250           0.28390          0.2414              0.10520   \n",
       "4          0.10030           0.13280          0.1980              0.10430   \n",
       "\n",
       "   mean_symmetry  ...  worst_texture  worst_perimeter  worst_area  \\\n",
       "0         0.2419  ...          17.33           184.60      2019.0   \n",
       "1         0.1812  ...          23.41           158.80      1956.0   \n",
       "2         0.2069  ...          25.53           152.50      1709.0   \n",
       "3         0.2597  ...          26.50            98.87       567.7   \n",
       "4         0.1809  ...          16.67           152.20      1575.0   \n",
       "\n",
       "   worst_smoothness  worst_compactness  worst_concavity  worst_concave_points  \\\n",
       "0            0.1622             0.6656           0.7119                0.2654   \n",
       "1            0.1238             0.1866           0.2416                0.1860   \n",
       "2            0.1444             0.4245           0.4504                0.2430   \n",
       "3            0.2098             0.8663           0.6869                0.2575   \n",
       "4            0.1374             0.2050           0.4000                0.1625   \n",
       "\n",
       "   worst_symmetry  worst_fractal_dimension  diagnosis  \n",
       "0          0.4601                  0.11890          1  \n",
       "1          0.2750                  0.08902          1  \n",
       "2          0.3613                  0.08758          1  \n",
       "3          0.6638                  0.17300          1  \n",
       "4          0.2364                  0.07678          1  \n",
       "\n",
       "[5 rows x 32 columns]"
      ]
     },
     "execution_count": 116,
     "metadata": {},
     "output_type": "execute_result"
    }
   ],
   "source": [
    "d = {'benign': 0, \n",
    "     'malignant': 1}\n",
    "\n",
    "df['diagnosis'] = df['diagnosis'].map(d)\n",
    "df.head()"
   ]
  },
  {
   "cell_type": "markdown",
   "metadata": {},
   "source": [
    "Atribuindo os valores e labels as varáveis X e y"
   ]
  },
  {
   "cell_type": "code",
   "execution_count": 117,
   "metadata": {},
   "outputs": [],
   "source": [
    "X = df.iloc[:, 1:31].values\n",
    "y = df['diagnosis'].values"
   ]
  },
  {
   "cell_type": "markdown",
   "metadata": {},
   "source": [
    "Armazenando em vaviáveis os dados de treino e teste"
   ]
  },
  {
   "cell_type": "code",
   "execution_count": 118,
   "metadata": {
    "executionInfo": {
     "elapsed": 734,
     "status": "ok",
     "timestamp": 1602095827900,
     "user": {
      "displayName": "Dalcimar Casanova",
      "photoUrl": "https://lh3.googleusercontent.com/a-/AOh14GgZzFT0FCo6nTJjXLoCVlWF617XKFK9oco_RLrc-A=s64",
      "userId": "01490701818826847808"
     },
     "user_tz": 180
    },
    "id": "ILzUen7FAlua"
   },
   "outputs": [],
   "source": [
    "X_train, X_test, y_train, y_test = train_test_split(X, y, test_size=0.2, shuffle=True, random_state=1, stratify=y)"
   ]
  },
  {
   "cell_type": "markdown",
   "metadata": {},
   "source": [
    "Criando a pipeline"
   ]
  },
  {
   "cell_type": "code",
   "execution_count": 119,
   "metadata": {
    "executionInfo": {
     "elapsed": 767,
     "status": "ok",
     "timestamp": 1602096246974,
     "user": {
      "displayName": "Dalcimar Casanova",
      "photoUrl": "https://lh3.googleusercontent.com/a-/AOh14GgZzFT0FCo6nTJjXLoCVlWF617XKFK9oco_RLrc-A=s64",
      "userId": "01490701818826847808"
     },
     "user_tz": 180
    },
    "id": "_hboroBDGKCM"
   },
   "outputs": [],
   "source": [
    "pipe = Pipeline([\n",
    "        ('z-score', StandardScaler()),\n",
    "        ('reduce_dim', PCA(n_components=5)),\n",
    "        ('classify', KNeighborsClassifier(n_neighbors=3))])"
   ]
  },
  {
   "cell_type": "markdown",
   "metadata": {},
   "source": [
    "Realizando o treinamento"
   ]
  },
  {
   "cell_type": "code",
   "execution_count": 120,
   "metadata": {
    "colab": {
     "base_uri": "https://localhost:8080/"
    },
    "executionInfo": {
     "elapsed": 744,
     "status": "ok",
     "timestamp": 1602096248115,
     "user": {
      "displayName": "Dalcimar Casanova",
      "photoUrl": "https://lh3.googleusercontent.com/a-/AOh14GgZzFT0FCo6nTJjXLoCVlWF617XKFK9oco_RLrc-A=s64",
      "userId": "01490701818826847808"
     },
     "user_tz": 180
    },
    "id": "RsH66Pb1GMJ_",
    "outputId": "8d35e631-6c5a-4251-a32e-e3afc6675e6c"
   },
   "outputs": [
    {
     "data": {
      "text/html": [
       "<style>#sk-container-id-18 {color: black;background-color: white;}#sk-container-id-18 pre{padding: 0;}#sk-container-id-18 div.sk-toggleable {background-color: white;}#sk-container-id-18 label.sk-toggleable__label {cursor: pointer;display: block;width: 100%;margin-bottom: 0;padding: 0.3em;box-sizing: border-box;text-align: center;}#sk-container-id-18 label.sk-toggleable__label-arrow:before {content: \"▸\";float: left;margin-right: 0.25em;color: #696969;}#sk-container-id-18 label.sk-toggleable__label-arrow:hover:before {color: black;}#sk-container-id-18 div.sk-estimator:hover label.sk-toggleable__label-arrow:before {color: black;}#sk-container-id-18 div.sk-toggleable__content {max-height: 0;max-width: 0;overflow: hidden;text-align: left;background-color: #f0f8ff;}#sk-container-id-18 div.sk-toggleable__content pre {margin: 0.2em;color: black;border-radius: 0.25em;background-color: #f0f8ff;}#sk-container-id-18 input.sk-toggleable__control:checked~div.sk-toggleable__content {max-height: 200px;max-width: 100%;overflow: auto;}#sk-container-id-18 input.sk-toggleable__control:checked~label.sk-toggleable__label-arrow:before {content: \"▾\";}#sk-container-id-18 div.sk-estimator input.sk-toggleable__control:checked~label.sk-toggleable__label {background-color: #d4ebff;}#sk-container-id-18 div.sk-label input.sk-toggleable__control:checked~label.sk-toggleable__label {background-color: #d4ebff;}#sk-container-id-18 input.sk-hidden--visually {border: 0;clip: rect(1px 1px 1px 1px);clip: rect(1px, 1px, 1px, 1px);height: 1px;margin: -1px;overflow: hidden;padding: 0;position: absolute;width: 1px;}#sk-container-id-18 div.sk-estimator {font-family: monospace;background-color: #f0f8ff;border: 1px dotted black;border-radius: 0.25em;box-sizing: border-box;margin-bottom: 0.5em;}#sk-container-id-18 div.sk-estimator:hover {background-color: #d4ebff;}#sk-container-id-18 div.sk-parallel-item::after {content: \"\";width: 100%;border-bottom: 1px solid gray;flex-grow: 1;}#sk-container-id-18 div.sk-label:hover label.sk-toggleable__label {background-color: #d4ebff;}#sk-container-id-18 div.sk-serial::before {content: \"\";position: absolute;border-left: 1px solid gray;box-sizing: border-box;top: 0;bottom: 0;left: 50%;z-index: 0;}#sk-container-id-18 div.sk-serial {display: flex;flex-direction: column;align-items: center;background-color: white;padding-right: 0.2em;padding-left: 0.2em;position: relative;}#sk-container-id-18 div.sk-item {position: relative;z-index: 1;}#sk-container-id-18 div.sk-parallel {display: flex;align-items: stretch;justify-content: center;background-color: white;position: relative;}#sk-container-id-18 div.sk-item::before, #sk-container-id-18 div.sk-parallel-item::before {content: \"\";position: absolute;border-left: 1px solid gray;box-sizing: border-box;top: 0;bottom: 0;left: 50%;z-index: -1;}#sk-container-id-18 div.sk-parallel-item {display: flex;flex-direction: column;z-index: 1;position: relative;background-color: white;}#sk-container-id-18 div.sk-parallel-item:first-child::after {align-self: flex-end;width: 50%;}#sk-container-id-18 div.sk-parallel-item:last-child::after {align-self: flex-start;width: 50%;}#sk-container-id-18 div.sk-parallel-item:only-child::after {width: 0;}#sk-container-id-18 div.sk-dashed-wrapped {border: 1px dashed gray;margin: 0 0.4em 0.5em 0.4em;box-sizing: border-box;padding-bottom: 0.4em;background-color: white;}#sk-container-id-18 div.sk-label label {font-family: monospace;font-weight: bold;display: inline-block;line-height: 1.2em;}#sk-container-id-18 div.sk-label-container {text-align: center;}#sk-container-id-18 div.sk-container {/* jupyter's `normalize.less` sets `[hidden] { display: none; }` but bootstrap.min.css set `[hidden] { display: none !important; }` so we also need the `!important` here to be able to override the default hidden behavior on the sphinx rendered scikit-learn.org. See: https://github.com/scikit-learn/scikit-learn/issues/21755 */display: inline-block !important;position: relative;}#sk-container-id-18 div.sk-text-repr-fallback {display: none;}</style><div id=\"sk-container-id-18\" class=\"sk-top-container\"><div class=\"sk-text-repr-fallback\"><pre>Pipeline(steps=[(&#x27;z-score&#x27;, StandardScaler()),\n",
       "                (&#x27;reduce_dim&#x27;, PCA(n_components=5)),\n",
       "                (&#x27;classify&#x27;, KNeighborsClassifier(n_neighbors=3))])</pre><b>In a Jupyter environment, please rerun this cell to show the HTML representation or trust the notebook. <br />On GitHub, the HTML representation is unable to render, please try loading this page with nbviewer.org.</b></div><div class=\"sk-container\" hidden><div class=\"sk-item sk-dashed-wrapped\"><div class=\"sk-label-container\"><div class=\"sk-label sk-toggleable\"><input class=\"sk-toggleable__control sk-hidden--visually\" id=\"sk-estimator-id-78\" type=\"checkbox\" ><label for=\"sk-estimator-id-78\" class=\"sk-toggleable__label sk-toggleable__label-arrow\">Pipeline</label><div class=\"sk-toggleable__content\"><pre>Pipeline(steps=[(&#x27;z-score&#x27;, StandardScaler()),\n",
       "                (&#x27;reduce_dim&#x27;, PCA(n_components=5)),\n",
       "                (&#x27;classify&#x27;, KNeighborsClassifier(n_neighbors=3))])</pre></div></div></div><div class=\"sk-serial\"><div class=\"sk-item\"><div class=\"sk-estimator sk-toggleable\"><input class=\"sk-toggleable__control sk-hidden--visually\" id=\"sk-estimator-id-79\" type=\"checkbox\" ><label for=\"sk-estimator-id-79\" class=\"sk-toggleable__label sk-toggleable__label-arrow\">StandardScaler</label><div class=\"sk-toggleable__content\"><pre>StandardScaler()</pre></div></div></div><div class=\"sk-item\"><div class=\"sk-estimator sk-toggleable\"><input class=\"sk-toggleable__control sk-hidden--visually\" id=\"sk-estimator-id-80\" type=\"checkbox\" ><label for=\"sk-estimator-id-80\" class=\"sk-toggleable__label sk-toggleable__label-arrow\">PCA</label><div class=\"sk-toggleable__content\"><pre>PCA(n_components=5)</pre></div></div></div><div class=\"sk-item\"><div class=\"sk-estimator sk-toggleable\"><input class=\"sk-toggleable__control sk-hidden--visually\" id=\"sk-estimator-id-81\" type=\"checkbox\" ><label for=\"sk-estimator-id-81\" class=\"sk-toggleable__label sk-toggleable__label-arrow\">KNeighborsClassifier</label><div class=\"sk-toggleable__content\"><pre>KNeighborsClassifier(n_neighbors=3)</pre></div></div></div></div></div></div></div>"
      ],
      "text/plain": [
       "Pipeline(steps=[('z-score', StandardScaler()),\n",
       "                ('reduce_dim', PCA(n_components=5)),\n",
       "                ('classify', KNeighborsClassifier(n_neighbors=3))])"
      ]
     },
     "execution_count": 120,
     "metadata": {},
     "output_type": "execute_result"
    }
   ],
   "source": [
    "pipe.fit(X_train, y_train)"
   ]
  },
  {
   "cell_type": "markdown",
   "metadata": {},
   "source": [
    "Verificando a acurácia dos dados de treino"
   ]
  },
  {
   "cell_type": "code",
   "execution_count": 121,
   "metadata": {
    "colab": {
     "base_uri": "https://localhost:8080/"
    },
    "executionInfo": {
     "elapsed": 688,
     "status": "ok",
     "timestamp": 1602096249214,
     "user": {
      "displayName": "Dalcimar Casanova",
      "photoUrl": "https://lh3.googleusercontent.com/a-/AOh14GgZzFT0FCo6nTJjXLoCVlWF617XKFK9oco_RLrc-A=s64",
      "userId": "01490701818826847808"
     },
     "user_tz": 180
    },
    "id": "t5uVQBY_XjGr",
    "outputId": "2c8f3943-91ce-404c-c1f1-1f455d636155"
   },
   "outputs": [
    {
     "data": {
      "text/plain": [
       "0.9802197802197802"
      ]
     },
     "execution_count": 121,
     "metadata": {},
     "output_type": "execute_result"
    }
   ],
   "source": [
    "from sklearn.metrics import accuracy_score\n",
    "\n",
    "y_train_pred = pipe.predict(X_train)\n",
    "accuracy_score(y_train, y_train_pred)"
   ]
  },
  {
   "cell_type": "markdown",
   "metadata": {},
   "source": [
    "Verificando a acurácia dos dados de teste"
   ]
  },
  {
   "cell_type": "code",
   "execution_count": 122,
   "metadata": {
    "colab": {
     "base_uri": "https://localhost:8080/"
    },
    "executionInfo": {
     "elapsed": 970,
     "status": "ok",
     "timestamp": 1602096251120,
     "user": {
      "displayName": "Dalcimar Casanova",
      "photoUrl": "https://lh3.googleusercontent.com/a-/AOh14GgZzFT0FCo6nTJjXLoCVlWF617XKFK9oco_RLrc-A=s64",
      "userId": "01490701818826847808"
     },
     "user_tz": 180
    },
    "id": "8IqvCg8cGQvH",
    "outputId": "fc57986f-d1ae-4fbf-a01e-8af1891ea750"
   },
   "outputs": [
    {
     "data": {
      "text/plain": [
       "0.9473684210526315"
      ]
     },
     "execution_count": 122,
     "metadata": {},
     "output_type": "execute_result"
    }
   ],
   "source": [
    "from sklearn.metrics import accuracy_score\n",
    "\n",
    "y_test_pred = pipe.predict(X_test)\n",
    "accuracy_score(y_test, y_test_pred)"
   ]
  },
  {
   "cell_type": "markdown",
   "metadata": {
    "id": "bUyQQAo1FqUI"
   },
   "source": [
    "## Scikit-learn grid-search"
   ]
  },
  {
   "cell_type": "markdown",
   "metadata": {},
   "source": [
    "Atribundo os parâmetros ao Gridsearch"
   ]
  },
  {
   "cell_type": "code",
   "execution_count": 123,
   "metadata": {
    "executionInfo": {
     "elapsed": 706,
     "status": "ok",
     "timestamp": 1602097105358,
     "user": {
      "displayName": "Dalcimar Casanova",
      "photoUrl": "https://lh3.googleusercontent.com/a-/AOh14GgZzFT0FCo6nTJjXLoCVlWF617XKFK9oco_RLrc-A=s64",
      "userId": "01490701818826847808"
     },
     "user_tz": 180
    },
    "id": "KDXrsUgy8jhA"
   },
   "outputs": [],
   "source": [
    "n_components = np.arange(1, 31)\n",
    "n_neighbors = np.arange(1, 5)\n",
    "\n",
    "param_grid = {\n",
    "    'reduce_dim__n_components': n_components,\n",
    "    'classify__n_neighbors': n_neighbors\n",
    "}\n",
    "\n",
    "grid = GridSearchCV(pipe, cv=2, n_jobs=1, param_grid=param_grid, scoring='accuracy')"
   ]
  },
  {
   "cell_type": "markdown",
   "metadata": {},
   "source": [
    "Realizando o treinamento"
   ]
  },
  {
   "cell_type": "code",
   "execution_count": 124,
   "metadata": {
    "colab": {
     "base_uri": "https://localhost:8080/"
    },
    "executionInfo": {
     "elapsed": 684,
     "status": "ok",
     "timestamp": 1602097106480,
     "user": {
      "displayName": "Dalcimar Casanova",
      "photoUrl": "https://lh3.googleusercontent.com/a-/AOh14GgZzFT0FCo6nTJjXLoCVlWF617XKFK9oco_RLrc-A=s64",
      "userId": "01490701818826847808"
     },
     "user_tz": 180
    },
    "id": "9hZnMqMGAO6A",
    "outputId": "64899b74-ea6b-4e9a-c2ce-9e0512d1323b"
   },
   "outputs": [
    {
     "data": {
      "text/html": [
       "<style>#sk-container-id-19 {color: black;background-color: white;}#sk-container-id-19 pre{padding: 0;}#sk-container-id-19 div.sk-toggleable {background-color: white;}#sk-container-id-19 label.sk-toggleable__label {cursor: pointer;display: block;width: 100%;margin-bottom: 0;padding: 0.3em;box-sizing: border-box;text-align: center;}#sk-container-id-19 label.sk-toggleable__label-arrow:before {content: \"▸\";float: left;margin-right: 0.25em;color: #696969;}#sk-container-id-19 label.sk-toggleable__label-arrow:hover:before {color: black;}#sk-container-id-19 div.sk-estimator:hover label.sk-toggleable__label-arrow:before {color: black;}#sk-container-id-19 div.sk-toggleable__content {max-height: 0;max-width: 0;overflow: hidden;text-align: left;background-color: #f0f8ff;}#sk-container-id-19 div.sk-toggleable__content pre {margin: 0.2em;color: black;border-radius: 0.25em;background-color: #f0f8ff;}#sk-container-id-19 input.sk-toggleable__control:checked~div.sk-toggleable__content {max-height: 200px;max-width: 100%;overflow: auto;}#sk-container-id-19 input.sk-toggleable__control:checked~label.sk-toggleable__label-arrow:before {content: \"▾\";}#sk-container-id-19 div.sk-estimator input.sk-toggleable__control:checked~label.sk-toggleable__label {background-color: #d4ebff;}#sk-container-id-19 div.sk-label input.sk-toggleable__control:checked~label.sk-toggleable__label {background-color: #d4ebff;}#sk-container-id-19 input.sk-hidden--visually {border: 0;clip: rect(1px 1px 1px 1px);clip: rect(1px, 1px, 1px, 1px);height: 1px;margin: -1px;overflow: hidden;padding: 0;position: absolute;width: 1px;}#sk-container-id-19 div.sk-estimator {font-family: monospace;background-color: #f0f8ff;border: 1px dotted black;border-radius: 0.25em;box-sizing: border-box;margin-bottom: 0.5em;}#sk-container-id-19 div.sk-estimator:hover {background-color: #d4ebff;}#sk-container-id-19 div.sk-parallel-item::after {content: \"\";width: 100%;border-bottom: 1px solid gray;flex-grow: 1;}#sk-container-id-19 div.sk-label:hover label.sk-toggleable__label {background-color: #d4ebff;}#sk-container-id-19 div.sk-serial::before {content: \"\";position: absolute;border-left: 1px solid gray;box-sizing: border-box;top: 0;bottom: 0;left: 50%;z-index: 0;}#sk-container-id-19 div.sk-serial {display: flex;flex-direction: column;align-items: center;background-color: white;padding-right: 0.2em;padding-left: 0.2em;position: relative;}#sk-container-id-19 div.sk-item {position: relative;z-index: 1;}#sk-container-id-19 div.sk-parallel {display: flex;align-items: stretch;justify-content: center;background-color: white;position: relative;}#sk-container-id-19 div.sk-item::before, #sk-container-id-19 div.sk-parallel-item::before {content: \"\";position: absolute;border-left: 1px solid gray;box-sizing: border-box;top: 0;bottom: 0;left: 50%;z-index: -1;}#sk-container-id-19 div.sk-parallel-item {display: flex;flex-direction: column;z-index: 1;position: relative;background-color: white;}#sk-container-id-19 div.sk-parallel-item:first-child::after {align-self: flex-end;width: 50%;}#sk-container-id-19 div.sk-parallel-item:last-child::after {align-self: flex-start;width: 50%;}#sk-container-id-19 div.sk-parallel-item:only-child::after {width: 0;}#sk-container-id-19 div.sk-dashed-wrapped {border: 1px dashed gray;margin: 0 0.4em 0.5em 0.4em;box-sizing: border-box;padding-bottom: 0.4em;background-color: white;}#sk-container-id-19 div.sk-label label {font-family: monospace;font-weight: bold;display: inline-block;line-height: 1.2em;}#sk-container-id-19 div.sk-label-container {text-align: center;}#sk-container-id-19 div.sk-container {/* jupyter's `normalize.less` sets `[hidden] { display: none; }` but bootstrap.min.css set `[hidden] { display: none !important; }` so we also need the `!important` here to be able to override the default hidden behavior on the sphinx rendered scikit-learn.org. See: https://github.com/scikit-learn/scikit-learn/issues/21755 */display: inline-block !important;position: relative;}#sk-container-id-19 div.sk-text-repr-fallback {display: none;}</style><div id=\"sk-container-id-19\" class=\"sk-top-container\"><div class=\"sk-text-repr-fallback\"><pre>GridSearchCV(cv=2,\n",
       "             estimator=Pipeline(steps=[(&#x27;z-score&#x27;, StandardScaler()),\n",
       "                                       (&#x27;reduce_dim&#x27;, PCA(n_components=5)),\n",
       "                                       (&#x27;classify&#x27;,\n",
       "                                        KNeighborsClassifier(n_neighbors=3))]),\n",
       "             n_jobs=1,\n",
       "             param_grid={&#x27;classify__n_neighbors&#x27;: array([1, 2, 3, 4]),\n",
       "                         &#x27;reduce_dim__n_components&#x27;: array([ 1,  2,  3,  4,  5,  6,  7,  8,  9, 10, 11, 12, 13, 14, 15, 16, 17,\n",
       "       18, 19, 20, 21, 22, 23, 24, 25, 26, 27, 28, 29, 30])},\n",
       "             scoring=&#x27;accuracy&#x27;)</pre><b>In a Jupyter environment, please rerun this cell to show the HTML representation or trust the notebook. <br />On GitHub, the HTML representation is unable to render, please try loading this page with nbviewer.org.</b></div><div class=\"sk-container\" hidden><div class=\"sk-item sk-dashed-wrapped\"><div class=\"sk-label-container\"><div class=\"sk-label sk-toggleable\"><input class=\"sk-toggleable__control sk-hidden--visually\" id=\"sk-estimator-id-82\" type=\"checkbox\" ><label for=\"sk-estimator-id-82\" class=\"sk-toggleable__label sk-toggleable__label-arrow\">GridSearchCV</label><div class=\"sk-toggleable__content\"><pre>GridSearchCV(cv=2,\n",
       "             estimator=Pipeline(steps=[(&#x27;z-score&#x27;, StandardScaler()),\n",
       "                                       (&#x27;reduce_dim&#x27;, PCA(n_components=5)),\n",
       "                                       (&#x27;classify&#x27;,\n",
       "                                        KNeighborsClassifier(n_neighbors=3))]),\n",
       "             n_jobs=1,\n",
       "             param_grid={&#x27;classify__n_neighbors&#x27;: array([1, 2, 3, 4]),\n",
       "                         &#x27;reduce_dim__n_components&#x27;: array([ 1,  2,  3,  4,  5,  6,  7,  8,  9, 10, 11, 12, 13, 14, 15, 16, 17,\n",
       "       18, 19, 20, 21, 22, 23, 24, 25, 26, 27, 28, 29, 30])},\n",
       "             scoring=&#x27;accuracy&#x27;)</pre></div></div></div><div class=\"sk-parallel\"><div class=\"sk-parallel-item\"><div class=\"sk-item\"><div class=\"sk-label-container\"><div class=\"sk-label sk-toggleable\"><input class=\"sk-toggleable__control sk-hidden--visually\" id=\"sk-estimator-id-83\" type=\"checkbox\" ><label for=\"sk-estimator-id-83\" class=\"sk-toggleable__label sk-toggleable__label-arrow\">estimator: Pipeline</label><div class=\"sk-toggleable__content\"><pre>Pipeline(steps=[(&#x27;z-score&#x27;, StandardScaler()),\n",
       "                (&#x27;reduce_dim&#x27;, PCA(n_components=5)),\n",
       "                (&#x27;classify&#x27;, KNeighborsClassifier(n_neighbors=3))])</pre></div></div></div><div class=\"sk-serial\"><div class=\"sk-item\"><div class=\"sk-serial\"><div class=\"sk-item\"><div class=\"sk-estimator sk-toggleable\"><input class=\"sk-toggleable__control sk-hidden--visually\" id=\"sk-estimator-id-84\" type=\"checkbox\" ><label for=\"sk-estimator-id-84\" class=\"sk-toggleable__label sk-toggleable__label-arrow\">StandardScaler</label><div class=\"sk-toggleable__content\"><pre>StandardScaler()</pre></div></div></div><div class=\"sk-item\"><div class=\"sk-estimator sk-toggleable\"><input class=\"sk-toggleable__control sk-hidden--visually\" id=\"sk-estimator-id-85\" type=\"checkbox\" ><label for=\"sk-estimator-id-85\" class=\"sk-toggleable__label sk-toggleable__label-arrow\">PCA</label><div class=\"sk-toggleable__content\"><pre>PCA(n_components=5)</pre></div></div></div><div class=\"sk-item\"><div class=\"sk-estimator sk-toggleable\"><input class=\"sk-toggleable__control sk-hidden--visually\" id=\"sk-estimator-id-86\" type=\"checkbox\" ><label for=\"sk-estimator-id-86\" class=\"sk-toggleable__label sk-toggleable__label-arrow\">KNeighborsClassifier</label><div class=\"sk-toggleable__content\"><pre>KNeighborsClassifier(n_neighbors=3)</pre></div></div></div></div></div></div></div></div></div></div></div></div>"
      ],
      "text/plain": [
       "GridSearchCV(cv=2,\n",
       "             estimator=Pipeline(steps=[('z-score', StandardScaler()),\n",
       "                                       ('reduce_dim', PCA(n_components=5)),\n",
       "                                       ('classify',\n",
       "                                        KNeighborsClassifier(n_neighbors=3))]),\n",
       "             n_jobs=1,\n",
       "             param_grid={'classify__n_neighbors': array([1, 2, 3, 4]),\n",
       "                         'reduce_dim__n_components': array([ 1,  2,  3,  4,  5,  6,  7,  8,  9, 10, 11, 12, 13, 14, 15, 16, 17,\n",
       "       18, 19, 20, 21, 22, 23, 24, 25, 26, 27, 28, 29, 30])},\n",
       "             scoring='accuracy')"
      ]
     },
     "execution_count": 124,
     "metadata": {},
     "output_type": "execute_result"
    }
   ],
   "source": [
    "grid.fit(X_train, y_train)"
   ]
  },
  {
   "cell_type": "markdown",
   "metadata": {},
   "source": [
    "Exibindo os resultados"
   ]
  },
  {
   "cell_type": "code",
   "execution_count": 125,
   "metadata": {
    "colab": {
     "base_uri": "https://localhost:8080/"
    },
    "executionInfo": {
     "elapsed": 697,
     "status": "ok",
     "timestamp": 1602097108926,
     "user": {
      "displayName": "Dalcimar Casanova",
      "photoUrl": "https://lh3.googleusercontent.com/a-/AOh14GgZzFT0FCo6nTJjXLoCVlWF617XKFK9oco_RLrc-A=s64",
      "userId": "01490701818826847808"
     },
     "user_tz": 180
    },
    "id": "hQqyJKNS-7RL",
    "outputId": "ea9f62b6-6159-478e-befb-d55af57d81a4"
   },
   "outputs": [
    {
     "name": "stdout",
     "output_type": "stream",
     "text": [
      "{'mean_fit_time': array([0.00200248, 0.00199485, 0.00149262, 0.00199449, 0.00199497,\n",
      "       0.00199294, 0.00199401, 0.00249374, 0.00149632, 0.00199461,\n",
      "       0.00201249, 0.00249124, 0.0029918 , 0.00299144, 0.00249374,\n",
      "       0.0014962 , 0.00199521, 0.00249326, 0.00299168, 0.00299108,\n",
      "       0.00249445, 0.00249279, 0.00199473, 0.00199544, 0.0022465 ,\n",
      "       0.00249326, 0.0019958 , 0.00199485, 0.00249553, 0.00199521,\n",
      "       0.00299156, 0.00199461, 0.00197864, 0.00201118, 0.00149632,\n",
      "       0.00199234, 0.00149345, 0.00300813, 0.00149643, 0.00299358,\n",
      "       0.00249255, 0.00199342, 0.00275505, 0.00199306, 0.00200152,\n",
      "       0.00149453, 0.00199604, 0.0024935 , 0.00199521, 0.00249588,\n",
      "       0.00199473, 0.00149584, 0.00349116, 0.00199461, 0.00299191,\n",
      "       0.00249374, 0.00249517, 0.00249422, 0.00149584, 0.00149632,\n",
      "       0.00149632, 0.00199497, 0.00201309, 0.00278461, 0.00251043,\n",
      "       0.00201452, 0.00200081, 0.00199509, 0.00250697, 0.00199914,\n",
      "       0.0029912 , 0.00201321, 0.00199556, 0.00249326, 0.00199795,\n",
      "       0.00199461, 0.00199509, 0.00199473, 0.0014956 , 0.00274813,\n",
      "       0.00149655, 0.00249374, 0.0024935 , 0.00249338, 0.00199473,\n",
      "       0.0014962 , 0.00199509, 0.00149596, 0.0024935 , 0.00249445,\n",
      "       0.00249362, 0.00199521, 0.00199342, 0.00199449, 0.00199568,\n",
      "       0.0024935 , 0.00249422, 0.00199497, 0.00249505, 0.0025034 ,\n",
      "       0.00249386, 0.00249374, 0.00199723, 0.00199473, 0.00201499,\n",
      "       0.00199342, 0.00199449, 0.00299251, 0.00299203, 0.0024935 ,\n",
      "       0.00199425, 0.00199497, 0.00199449, 0.00199521, 0.00225127,\n",
      "       0.00099754, 0.00199544, 0.0024935 , 0.00249434, 0.00149584]), 'std_fit_time': array([8.10623169e-06, 4.76837158e-07, 4.99844551e-04, 1.19209290e-07,\n",
      "       1.19209290e-07, 2.14576721e-06, 5.96046448e-07, 4.98652458e-04,\n",
      "       4.98056412e-04, 2.38418579e-07, 1.76429749e-05, 4.99963760e-04,\n",
      "       3.57627869e-07, 4.76837158e-07, 4.99129295e-04, 4.98652458e-04,\n",
      "       9.95516777e-04, 4.98652458e-04, 7.15255737e-07, 9.97662544e-04,\n",
      "       4.99129295e-04, 4.98890877e-04, 1.19209290e-07, 9.98377800e-04,\n",
      "       2.52127647e-04, 4.98652458e-04, 4.76837158e-07, 0.00000000e+00,\n",
      "       4.98294830e-04, 1.19209290e-07, 3.57627869e-07, 2.38418579e-07,\n",
      "       1.78813934e-05, 1.68085098e-05, 4.99010086e-04, 2.02655792e-06,\n",
      "       4.96864319e-04, 1.54972076e-05, 4.99129295e-04, 9.53674316e-07,\n",
      "       4.98414040e-04, 1.43051147e-06, 2.48312950e-04, 1.31130219e-06,\n",
      "       5.72204590e-06, 4.99367714e-04, 4.76837158e-07, 4.98652458e-04,\n",
      "       3.57627869e-07, 4.96506691e-04, 8.34465027e-07, 4.98533249e-04,\n",
      "       4.98771667e-04, 0.00000000e+00, 0.00000000e+00, 4.97937202e-04,\n",
      "       5.00559807e-04, 4.97937202e-04, 4.98294830e-04, 4.99010086e-04,\n",
      "       4.98056412e-04, 1.19209290e-07, 1.84774399e-05, 7.89284706e-04,\n",
      "       4.80055809e-04, 2.06232071e-05, 4.76837158e-06, 0.00000000e+00,\n",
      "       5.01155853e-04, 3.33786011e-06, 9.96351242e-04, 1.83582306e-05,\n",
      "       1.43051147e-06, 4.98890877e-04, 3.33786011e-06, 2.38418579e-07,\n",
      "       2.38418579e-07, 1.19209290e-07, 4.98533249e-04, 7.53045082e-04,\n",
      "       4.98771667e-04, 4.98414040e-04, 4.98652458e-04, 4.98533249e-04,\n",
      "       8.34465027e-07, 4.98652458e-04, 2.38418579e-07, 4.98890877e-04,\n",
      "       4.98652458e-04, 4.99367714e-04, 4.98533249e-04, 5.96046448e-07,\n",
      "       1.43051147e-06, 1.19209290e-07, 8.34465027e-07, 4.99606133e-04,\n",
      "       4.99129295e-04, 3.57627869e-07, 4.99963760e-04, 5.07354736e-04,\n",
      "       4.98533249e-04, 4.98652458e-04, 2.62260437e-06, 1.19209290e-07,\n",
      "       1.99079514e-05, 9.53674316e-07, 9.97424126e-04, 1.19209290e-07,\n",
      "       9.97185707e-04, 4.98652458e-04, 1.19209290e-07, 1.19209290e-07,\n",
      "       1.19209290e-07, 3.57627869e-07, 2.53319740e-04, 2.38418579e-07,\n",
      "       3.57627869e-07, 4.98890877e-04, 4.98771667e-04, 4.99248505e-04]), 'mean_score_time': array([0.00647438, 0.00598335, 0.00845933, 0.00623703, 0.00648355,\n",
      "       0.00648403, 0.00596714, 0.00947428, 0.00548601, 0.00573754,\n",
      "       0.00847816, 0.00648439, 0.01299119, 0.01159525, 0.00846076,\n",
      "       0.11021674, 0.11247313, 0.11171412, 0.12368107, 0.12892914,\n",
      "       0.12394023, 0.11620414, 0.10772085, 0.11270821, 0.10772336,\n",
      "       0.11420536, 0.12194097, 0.12467837, 0.1229409 , 0.11420441,\n",
      "       0.00947475, 0.00598431, 0.00600231, 0.00596881, 0.00648248,\n",
      "       0.00949657, 0.00947714, 0.00722444, 0.00747848, 0.01047027,\n",
      "       0.00748074, 0.00797796, 0.01296294, 0.00698078, 0.00748861,\n",
      "       0.11020601, 0.11047757, 0.10922229, 0.10972273, 0.13740206,\n",
      "       0.11171556, 0.11945438, 0.12418401, 0.1299355 , 0.13043237,\n",
      "       0.12119889, 0.11471379, 0.12418842, 0.12195385, 0.11470807,\n",
      "       0.00747919, 0.00648224, 0.00847578, 0.00796211, 0.00997233,\n",
      "       0.00795329, 0.00696576, 0.00775421, 0.00747156, 0.00795472,\n",
      "       0.00997305, 0.00749719, 0.00874949, 0.00947475, 0.0069778 ,\n",
      "       0.11221766, 0.11346781, 0.10922253, 0.11321354, 0.11221826,\n",
      "       0.11221457, 0.12269104, 0.1294322 , 0.12693334, 0.12368608,\n",
      "       0.11022067, 0.11097538, 0.11071885, 0.11470973, 0.11371362,\n",
      "       0.009974  , 0.00747919, 0.00747967, 0.00823843, 0.00747859,\n",
      "       0.00648165, 0.00648355, 0.00698054, 0.00773513, 0.00946498,\n",
      "       0.00847638, 0.01147008, 0.0077337 , 0.00797844, 0.0079782 ,\n",
      "       0.11419499, 0.11845958, 0.12818193, 0.12893927, 0.12892926,\n",
      "       0.12717783, 0.11346984, 0.11420918, 0.11870003, 0.11221576,\n",
      "       0.11271536, 0.11421192, 0.11546743, 0.11072314, 0.13042974]), 'std_score_time': array([5.07235527e-04, 2.38418579e-07, 5.15222549e-04, 2.52962112e-04,\n",
      "       4.99725342e-04, 4.99725342e-04, 1.71661377e-05, 5.00202179e-04,\n",
      "       4.99725342e-04, 2.46286392e-04, 2.49433517e-03, 5.00559807e-04,\n",
      "       2.52723694e-05, 4.04834747e-04, 2.47740746e-03, 1.78813934e-06,\n",
      "       1.25992298e-03, 1.49846077e-03, 8.47744942e-03, 5.22494316e-03,\n",
      "       7.51495361e-04, 7.98046589e-03, 1.49655342e-03, 1.49619579e-03,\n",
      "       4.98414040e-04, 1.99484825e-03, 7.52329826e-04, 2.49290466e-03,\n",
      "       2.23886967e-03, 3.98802757e-03, 2.49385834e-03, 4.76837158e-07,\n",
      "       1.75237656e-05, 1.47819519e-05, 4.99129295e-04, 2.50661373e-03,\n",
      "       2.49433517e-03, 7.25388527e-04, 4.97817993e-04, 4.99606133e-04,\n",
      "       4.99367714e-04, 2.38418579e-07, 3.99351120e-05, 5.96046448e-07,\n",
      "       5.09858131e-04, 3.97217274e-03, 2.73597240e-03, 9.97662544e-04,\n",
      "       4.98890877e-04, 2.51920223e-02, 4.98771667e-04, 8.23092461e-03,\n",
      "       3.57627869e-07, 2.75421143e-03, 4.25148010e-03, 7.97009468e-03,\n",
      "       1.49452686e-03, 1.99770927e-03, 2.75528431e-03, 6.48200512e-03,\n",
      "       4.99010086e-04, 4.98890877e-04, 1.49369240e-03, 9.81450081e-04,\n",
      "       2.99263000e-03, 7.51018524e-06, 1.82390213e-05, 2.23517418e-04,\n",
      "       4.97579575e-04, 2.30073929e-05, 2.99239159e-03, 5.16533852e-04,\n",
      "       1.18970871e-03, 2.49338150e-03, 1.00088120e-03, 1.00064278e-03,\n",
      "       4.24683094e-03, 1.19209290e-07, 9.96351242e-04, 1.99592113e-03,\n",
      "       1.99508667e-03, 7.48336315e-03, 1.25217438e-03, 7.53402710e-04,\n",
      "       2.49171257e-03, 2.99382210e-03, 2.43782997e-04, 4.98890877e-04,\n",
      "       2.49207020e-03, 3.49318981e-03, 1.99556351e-03, 1.49583817e-03,\n",
      "       5.00440598e-04, 7.42554665e-04, 1.49643421e-03, 4.98533249e-04,\n",
      "       5.01155853e-04, 1.07288361e-06, 2.42590904e-04, 4.91619110e-04,\n",
      "       1.49571896e-03, 4.99486923e-04, 2.41637230e-04, 2.38418579e-07,\n",
      "       2.38418579e-07, 1.01459026e-03, 2.25317478e-03, 2.00128555e-03,\n",
      "       2.22837925e-03, 2.75146961e-03, 9.95039940e-04, 2.52723694e-04,\n",
      "       1.99317932e-03, 1.49655342e-03, 9.97304916e-04, 4.97460365e-04,\n",
      "       9.96708870e-04, 7.38024712e-04, 4.95076180e-04, 4.24981117e-03]), 'param_classify__n_neighbors': masked_array(data=[1, 1, 1, 1, 1, 1, 1, 1, 1, 1, 1, 1, 1, 1, 1, 1, 1, 1,\n",
      "                   1, 1, 1, 1, 1, 1, 1, 1, 1, 1, 1, 1, 2, 2, 2, 2, 2, 2,\n",
      "                   2, 2, 2, 2, 2, 2, 2, 2, 2, 2, 2, 2, 2, 2, 2, 2, 2, 2,\n",
      "                   2, 2, 2, 2, 2, 2, 3, 3, 3, 3, 3, 3, 3, 3, 3, 3, 3, 3,\n",
      "                   3, 3, 3, 3, 3, 3, 3, 3, 3, 3, 3, 3, 3, 3, 3, 3, 3, 3,\n",
      "                   4, 4, 4, 4, 4, 4, 4, 4, 4, 4, 4, 4, 4, 4, 4, 4, 4, 4,\n",
      "                   4, 4, 4, 4, 4, 4, 4, 4, 4, 4, 4, 4],\n",
      "             mask=[False, False, False, False, False, False, False, False,\n",
      "                   False, False, False, False, False, False, False, False,\n",
      "                   False, False, False, False, False, False, False, False,\n",
      "                   False, False, False, False, False, False, False, False,\n",
      "                   False, False, False, False, False, False, False, False,\n",
      "                   False, False, False, False, False, False, False, False,\n",
      "                   False, False, False, False, False, False, False, False,\n",
      "                   False, False, False, False, False, False, False, False,\n",
      "                   False, False, False, False, False, False, False, False,\n",
      "                   False, False, False, False, False, False, False, False,\n",
      "                   False, False, False, False, False, False, False, False,\n",
      "                   False, False, False, False, False, False, False, False,\n",
      "                   False, False, False, False, False, False, False, False,\n",
      "                   False, False, False, False, False, False, False, False,\n",
      "                   False, False, False, False, False, False, False, False],\n",
      "       fill_value='?',\n",
      "            dtype=object), 'param_reduce_dim__n_components': masked_array(data=[1, 2, 3, 4, 5, 6, 7, 8, 9, 10, 11, 12, 13, 14, 15, 16,\n",
      "                   17, 18, 19, 20, 21, 22, 23, 24, 25, 26, 27, 28, 29, 30,\n",
      "                   1, 2, 3, 4, 5, 6, 7, 8, 9, 10, 11, 12, 13, 14, 15, 16,\n",
      "                   17, 18, 19, 20, 21, 22, 23, 24, 25, 26, 27, 28, 29, 30,\n",
      "                   1, 2, 3, 4, 5, 6, 7, 8, 9, 10, 11, 12, 13, 14, 15, 16,\n",
      "                   17, 18, 19, 20, 21, 22, 23, 24, 25, 26, 27, 28, 29, 30,\n",
      "                   1, 2, 3, 4, 5, 6, 7, 8, 9, 10, 11, 12, 13, 14, 15, 16,\n",
      "                   17, 18, 19, 20, 21, 22, 23, 24, 25, 26, 27, 28, 29, 30],\n",
      "             mask=[False, False, False, False, False, False, False, False,\n",
      "                   False, False, False, False, False, False, False, False,\n",
      "                   False, False, False, False, False, False, False, False,\n",
      "                   False, False, False, False, False, False, False, False,\n",
      "                   False, False, False, False, False, False, False, False,\n",
      "                   False, False, False, False, False, False, False, False,\n",
      "                   False, False, False, False, False, False, False, False,\n",
      "                   False, False, False, False, False, False, False, False,\n",
      "                   False, False, False, False, False, False, False, False,\n",
      "                   False, False, False, False, False, False, False, False,\n",
      "                   False, False, False, False, False, False, False, False,\n",
      "                   False, False, False, False, False, False, False, False,\n",
      "                   False, False, False, False, False, False, False, False,\n",
      "                   False, False, False, False, False, False, False, False,\n",
      "                   False, False, False, False, False, False, False, False],\n",
      "       fill_value='?',\n",
      "            dtype=object), 'params': [{'classify__n_neighbors': 1, 'reduce_dim__n_components': 1}, {'classify__n_neighbors': 1, 'reduce_dim__n_components': 2}, {'classify__n_neighbors': 1, 'reduce_dim__n_components': 3}, {'classify__n_neighbors': 1, 'reduce_dim__n_components': 4}, {'classify__n_neighbors': 1, 'reduce_dim__n_components': 5}, {'classify__n_neighbors': 1, 'reduce_dim__n_components': 6}, {'classify__n_neighbors': 1, 'reduce_dim__n_components': 7}, {'classify__n_neighbors': 1, 'reduce_dim__n_components': 8}, {'classify__n_neighbors': 1, 'reduce_dim__n_components': 9}, {'classify__n_neighbors': 1, 'reduce_dim__n_components': 10}, {'classify__n_neighbors': 1, 'reduce_dim__n_components': 11}, {'classify__n_neighbors': 1, 'reduce_dim__n_components': 12}, {'classify__n_neighbors': 1, 'reduce_dim__n_components': 13}, {'classify__n_neighbors': 1, 'reduce_dim__n_components': 14}, {'classify__n_neighbors': 1, 'reduce_dim__n_components': 15}, {'classify__n_neighbors': 1, 'reduce_dim__n_components': 16}, {'classify__n_neighbors': 1, 'reduce_dim__n_components': 17}, {'classify__n_neighbors': 1, 'reduce_dim__n_components': 18}, {'classify__n_neighbors': 1, 'reduce_dim__n_components': 19}, {'classify__n_neighbors': 1, 'reduce_dim__n_components': 20}, {'classify__n_neighbors': 1, 'reduce_dim__n_components': 21}, {'classify__n_neighbors': 1, 'reduce_dim__n_components': 22}, {'classify__n_neighbors': 1, 'reduce_dim__n_components': 23}, {'classify__n_neighbors': 1, 'reduce_dim__n_components': 24}, {'classify__n_neighbors': 1, 'reduce_dim__n_components': 25}, {'classify__n_neighbors': 1, 'reduce_dim__n_components': 26}, {'classify__n_neighbors': 1, 'reduce_dim__n_components': 27}, {'classify__n_neighbors': 1, 'reduce_dim__n_components': 28}, {'classify__n_neighbors': 1, 'reduce_dim__n_components': 29}, {'classify__n_neighbors': 1, 'reduce_dim__n_components': 30}, {'classify__n_neighbors': 2, 'reduce_dim__n_components': 1}, {'classify__n_neighbors': 2, 'reduce_dim__n_components': 2}, {'classify__n_neighbors': 2, 'reduce_dim__n_components': 3}, {'classify__n_neighbors': 2, 'reduce_dim__n_components': 4}, {'classify__n_neighbors': 2, 'reduce_dim__n_components': 5}, {'classify__n_neighbors': 2, 'reduce_dim__n_components': 6}, {'classify__n_neighbors': 2, 'reduce_dim__n_components': 7}, {'classify__n_neighbors': 2, 'reduce_dim__n_components': 8}, {'classify__n_neighbors': 2, 'reduce_dim__n_components': 9}, {'classify__n_neighbors': 2, 'reduce_dim__n_components': 10}, {'classify__n_neighbors': 2, 'reduce_dim__n_components': 11}, {'classify__n_neighbors': 2, 'reduce_dim__n_components': 12}, {'classify__n_neighbors': 2, 'reduce_dim__n_components': 13}, {'classify__n_neighbors': 2, 'reduce_dim__n_components': 14}, {'classify__n_neighbors': 2, 'reduce_dim__n_components': 15}, {'classify__n_neighbors': 2, 'reduce_dim__n_components': 16}, {'classify__n_neighbors': 2, 'reduce_dim__n_components': 17}, {'classify__n_neighbors': 2, 'reduce_dim__n_components': 18}, {'classify__n_neighbors': 2, 'reduce_dim__n_components': 19}, {'classify__n_neighbors': 2, 'reduce_dim__n_components': 20}, {'classify__n_neighbors': 2, 'reduce_dim__n_components': 21}, {'classify__n_neighbors': 2, 'reduce_dim__n_components': 22}, {'classify__n_neighbors': 2, 'reduce_dim__n_components': 23}, {'classify__n_neighbors': 2, 'reduce_dim__n_components': 24}, {'classify__n_neighbors': 2, 'reduce_dim__n_components': 25}, {'classify__n_neighbors': 2, 'reduce_dim__n_components': 26}, {'classify__n_neighbors': 2, 'reduce_dim__n_components': 27}, {'classify__n_neighbors': 2, 'reduce_dim__n_components': 28}, {'classify__n_neighbors': 2, 'reduce_dim__n_components': 29}, {'classify__n_neighbors': 2, 'reduce_dim__n_components': 30}, {'classify__n_neighbors': 3, 'reduce_dim__n_components': 1}, {'classify__n_neighbors': 3, 'reduce_dim__n_components': 2}, {'classify__n_neighbors': 3, 'reduce_dim__n_components': 3}, {'classify__n_neighbors': 3, 'reduce_dim__n_components': 4}, {'classify__n_neighbors': 3, 'reduce_dim__n_components': 5}, {'classify__n_neighbors': 3, 'reduce_dim__n_components': 6}, {'classify__n_neighbors': 3, 'reduce_dim__n_components': 7}, {'classify__n_neighbors': 3, 'reduce_dim__n_components': 8}, {'classify__n_neighbors': 3, 'reduce_dim__n_components': 9}, {'classify__n_neighbors': 3, 'reduce_dim__n_components': 10}, {'classify__n_neighbors': 3, 'reduce_dim__n_components': 11}, {'classify__n_neighbors': 3, 'reduce_dim__n_components': 12}, {'classify__n_neighbors': 3, 'reduce_dim__n_components': 13}, {'classify__n_neighbors': 3, 'reduce_dim__n_components': 14}, {'classify__n_neighbors': 3, 'reduce_dim__n_components': 15}, {'classify__n_neighbors': 3, 'reduce_dim__n_components': 16}, {'classify__n_neighbors': 3, 'reduce_dim__n_components': 17}, {'classify__n_neighbors': 3, 'reduce_dim__n_components': 18}, {'classify__n_neighbors': 3, 'reduce_dim__n_components': 19}, {'classify__n_neighbors': 3, 'reduce_dim__n_components': 20}, {'classify__n_neighbors': 3, 'reduce_dim__n_components': 21}, {'classify__n_neighbors': 3, 'reduce_dim__n_components': 22}, {'classify__n_neighbors': 3, 'reduce_dim__n_components': 23}, {'classify__n_neighbors': 3, 'reduce_dim__n_components': 24}, {'classify__n_neighbors': 3, 'reduce_dim__n_components': 25}, {'classify__n_neighbors': 3, 'reduce_dim__n_components': 26}, {'classify__n_neighbors': 3, 'reduce_dim__n_components': 27}, {'classify__n_neighbors': 3, 'reduce_dim__n_components': 28}, {'classify__n_neighbors': 3, 'reduce_dim__n_components': 29}, {'classify__n_neighbors': 3, 'reduce_dim__n_components': 30}, {'classify__n_neighbors': 4, 'reduce_dim__n_components': 1}, {'classify__n_neighbors': 4, 'reduce_dim__n_components': 2}, {'classify__n_neighbors': 4, 'reduce_dim__n_components': 3}, {'classify__n_neighbors': 4, 'reduce_dim__n_components': 4}, {'classify__n_neighbors': 4, 'reduce_dim__n_components': 5}, {'classify__n_neighbors': 4, 'reduce_dim__n_components': 6}, {'classify__n_neighbors': 4, 'reduce_dim__n_components': 7}, {'classify__n_neighbors': 4, 'reduce_dim__n_components': 8}, {'classify__n_neighbors': 4, 'reduce_dim__n_components': 9}, {'classify__n_neighbors': 4, 'reduce_dim__n_components': 10}, {'classify__n_neighbors': 4, 'reduce_dim__n_components': 11}, {'classify__n_neighbors': 4, 'reduce_dim__n_components': 12}, {'classify__n_neighbors': 4, 'reduce_dim__n_components': 13}, {'classify__n_neighbors': 4, 'reduce_dim__n_components': 14}, {'classify__n_neighbors': 4, 'reduce_dim__n_components': 15}, {'classify__n_neighbors': 4, 'reduce_dim__n_components': 16}, {'classify__n_neighbors': 4, 'reduce_dim__n_components': 17}, {'classify__n_neighbors': 4, 'reduce_dim__n_components': 18}, {'classify__n_neighbors': 4, 'reduce_dim__n_components': 19}, {'classify__n_neighbors': 4, 'reduce_dim__n_components': 20}, {'classify__n_neighbors': 4, 'reduce_dim__n_components': 21}, {'classify__n_neighbors': 4, 'reduce_dim__n_components': 22}, {'classify__n_neighbors': 4, 'reduce_dim__n_components': 23}, {'classify__n_neighbors': 4, 'reduce_dim__n_components': 24}, {'classify__n_neighbors': 4, 'reduce_dim__n_components': 25}, {'classify__n_neighbors': 4, 'reduce_dim__n_components': 26}, {'classify__n_neighbors': 4, 'reduce_dim__n_components': 27}, {'classify__n_neighbors': 4, 'reduce_dim__n_components': 28}, {'classify__n_neighbors': 4, 'reduce_dim__n_components': 29}, {'classify__n_neighbors': 4, 'reduce_dim__n_components': 30}], 'split0_test_score': array([0.86842105, 0.87719298, 0.9122807 , 0.9254386 , 0.9254386 ,\n",
      "       0.93859649, 0.93421053, 0.9254386 , 0.93859649, 0.94736842,\n",
      "       0.94298246, 0.93859649, 0.94298246, 0.94736842, 0.94736842,\n",
      "       0.94736842, 0.94736842, 0.94736842, 0.94736842, 0.94736842,\n",
      "       0.94736842, 0.94736842, 0.94736842, 0.94736842, 0.94736842,\n",
      "       0.94736842, 0.94736842, 0.94736842, 0.94736842, 0.94736842,\n",
      "       0.85087719, 0.89473684, 0.9254386 , 0.92982456, 0.94298246,\n",
      "       0.93421053, 0.92982456, 0.93859649, 0.93859649, 0.94298246,\n",
      "       0.94298246, 0.94298246, 0.94298246, 0.93859649, 0.94298246,\n",
      "       0.93859649, 0.94298246, 0.94298246, 0.94298246, 0.93859649,\n",
      "       0.93859649, 0.93859649, 0.93859649, 0.93859649, 0.93859649,\n",
      "       0.93859649, 0.93859649, 0.93859649, 0.93859649, 0.93859649,\n",
      "       0.87280702, 0.91666667, 0.92105263, 0.9254386 , 0.95175439,\n",
      "       0.94298246, 0.94298246, 0.94736842, 0.94298246, 0.94736842,\n",
      "       0.94736842, 0.94298246, 0.95614035, 0.94298246, 0.94298246,\n",
      "       0.94298246, 0.94736842, 0.94736842, 0.94736842, 0.94736842,\n",
      "       0.94736842, 0.94736842, 0.94736842, 0.94736842, 0.94736842,\n",
      "       0.94736842, 0.94736842, 0.94736842, 0.94736842, 0.94736842,\n",
      "       0.87719298, 0.9122807 , 0.9254386 , 0.9254386 , 0.94298246,\n",
      "       0.93859649, 0.93421053, 0.93421053, 0.93859649, 0.93859649,\n",
      "       0.93421053, 0.93421053, 0.93859649, 0.93421053, 0.93421053,\n",
      "       0.93421053, 0.93859649, 0.94298246, 0.94298246, 0.94298246,\n",
      "       0.94298246, 0.94298246, 0.94298246, 0.93859649, 0.93859649,\n",
      "       0.93859649, 0.93859649, 0.93859649, 0.93859649, 0.93859649]), 'split1_test_score': array([0.88546256, 0.90748899, 0.92511013, 0.94273128, 0.96475771,\n",
      "       0.95154185, 0.95594714, 0.96035242, 0.96035242, 0.95594714,\n",
      "       0.95594714, 0.95154185, 0.95154185, 0.94713656, 0.95594714,\n",
      "       0.95594714, 0.95154185, 0.95154185, 0.95154185, 0.95154185,\n",
      "       0.95154185, 0.95154185, 0.95154185, 0.95154185, 0.95154185,\n",
      "       0.95154185, 0.95154185, 0.95154185, 0.95154185, 0.95154185,\n",
      "       0.85462555, 0.89867841, 0.9339207 , 0.92951542, 0.95154185,\n",
      "       0.94273128, 0.93832599, 0.94273128, 0.94713656, 0.95154185,\n",
      "       0.96035242, 0.95594714, 0.95594714, 0.95594714, 0.95594714,\n",
      "       0.95594714, 0.95594714, 0.95594714, 0.95594714, 0.95594714,\n",
      "       0.95594714, 0.95594714, 0.95594714, 0.95594714, 0.95594714,\n",
      "       0.95594714, 0.95594714, 0.95594714, 0.95594714, 0.95594714,\n",
      "       0.89427313, 0.91629956, 0.95594714, 0.96035242, 0.969163  ,\n",
      "       0.94713656, 0.95154185, 0.96035242, 0.96475771, 0.96475771,\n",
      "       0.96475771, 0.96035242, 0.96035242, 0.96035242, 0.96475771,\n",
      "       0.96475771, 0.96475771, 0.96475771, 0.96475771, 0.96475771,\n",
      "       0.96475771, 0.96475771, 0.96475771, 0.96475771, 0.96475771,\n",
      "       0.96475771, 0.96475771, 0.96475771, 0.96475771, 0.96475771,\n",
      "       0.88546256, 0.92070485, 0.95594714, 0.95594714, 0.96035242,\n",
      "       0.96035242, 0.95594714, 0.95154185, 0.96035242, 0.96035242,\n",
      "       0.96035242, 0.95154185, 0.95594714, 0.96035242, 0.96475771,\n",
      "       0.96475771, 0.969163  , 0.969163  , 0.97356828, 0.969163  ,\n",
      "       0.969163  , 0.969163  , 0.969163  , 0.969163  , 0.969163  ,\n",
      "       0.969163  , 0.969163  , 0.969163  , 0.969163  , 0.969163  ]), 'mean_test_score': array([0.8769418 , 0.89234098, 0.91869542, 0.93408494, 0.94509815,\n",
      "       0.94506917, 0.94507883, 0.94289551, 0.94947446, 0.95165778,\n",
      "       0.9494648 , 0.94506917, 0.94726215, 0.94725249, 0.95165778,\n",
      "       0.95165778, 0.94945514, 0.94945514, 0.94945514, 0.94945514,\n",
      "       0.94945514, 0.94945514, 0.94945514, 0.94945514, 0.94945514,\n",
      "       0.94945514, 0.94945514, 0.94945514, 0.94945514, 0.94945514,\n",
      "       0.85275137, 0.89670763, 0.92967965, 0.92966999, 0.94726215,\n",
      "       0.9384709 , 0.93407528, 0.94066388, 0.94286653, 0.94726215,\n",
      "       0.95166744, 0.9494648 , 0.9494648 , 0.94727181, 0.9494648 ,\n",
      "       0.94727181, 0.9494648 , 0.9494648 , 0.9494648 , 0.94727181,\n",
      "       0.94727181, 0.94727181, 0.94727181, 0.94727181, 0.94727181,\n",
      "       0.94727181, 0.94727181, 0.94727181, 0.94727181, 0.94727181,\n",
      "       0.88354007, 0.91648311, 0.93849988, 0.94289551, 0.96045869,\n",
      "       0.94505951, 0.94726215, 0.95386042, 0.95387008, 0.95606307,\n",
      "       0.95606307, 0.95166744, 0.95824639, 0.95166744, 0.95387008,\n",
      "       0.95387008, 0.95606307, 0.95606307, 0.95606307, 0.95606307,\n",
      "       0.95606307, 0.95606307, 0.95606307, 0.95606307, 0.95606307,\n",
      "       0.95606307, 0.95606307, 0.95606307, 0.95606307, 0.95606307,\n",
      "       0.88132777, 0.91649277, 0.94069287, 0.94069287, 0.95166744,\n",
      "       0.94947446, 0.94507883, 0.94287619, 0.94947446, 0.94947446,\n",
      "       0.94728147, 0.94287619, 0.94727181, 0.94728147, 0.94948412,\n",
      "       0.94948412, 0.95387974, 0.95607273, 0.95827537, 0.95607273,\n",
      "       0.95607273, 0.95607273, 0.95607273, 0.95387974, 0.95387974,\n",
      "       0.95387974, 0.95387974, 0.95387974, 0.95387974, 0.95387974]), 'std_test_score': array([0.00852075, 0.015148  , 0.00641472, 0.00864634, 0.01965956,\n",
      "       0.00647268, 0.01086831, 0.01745691, 0.01087797, 0.00428936,\n",
      "       0.00648234, 0.00647268, 0.0042797 , 0.00011593, 0.00428936,\n",
      "       0.00428936, 0.00208671, 0.00208671, 0.00208671, 0.00208671,\n",
      "       0.00208671, 0.00208671, 0.00208671, 0.00208671, 0.00208671,\n",
      "       0.00208671, 0.00208671, 0.00208671, 0.00208671, 0.00208671,\n",
      "       0.00187418, 0.00197079, 0.00424105, 0.00015457, 0.0042797 ,\n",
      "       0.00426038, 0.00425071, 0.00206739, 0.00427004, 0.0042797 ,\n",
      "       0.00868498, 0.00648234, 0.00648234, 0.00867532, 0.00648234,\n",
      "       0.00867532, 0.00648234, 0.00648234, 0.00648234, 0.00867532,\n",
      "       0.00867532, 0.00867532, 0.00867532, 0.00867532, 0.00867532,\n",
      "       0.00867532, 0.00867532, 0.00867532, 0.00867532, 0.00867532,\n",
      "       0.01073306, 0.00018355, 0.01744725, 0.01745691, 0.0087043 ,\n",
      "       0.00207705, 0.0042797 , 0.006492  , 0.01088763, 0.00869464,\n",
      "       0.00869464, 0.00868498, 0.00210604, 0.00868498, 0.01088763,\n",
      "       0.01088763, 0.00869464, 0.00869464, 0.00869464, 0.00869464,\n",
      "       0.00869464, 0.00869464, 0.00869464, 0.00869464, 0.00869464,\n",
      "       0.00869464, 0.00869464, 0.00869464, 0.00869464, 0.00869464,\n",
      "       0.00413479, 0.00421207, 0.01525427, 0.01525427, 0.00868498,\n",
      "       0.01087797, 0.01086831, 0.00866566, 0.01087797, 0.01087797,\n",
      "       0.01307095, 0.00866566, 0.00867532, 0.01307095, 0.01527359,\n",
      "       0.01527359, 0.01528325, 0.01309027, 0.01529291, 0.01309027,\n",
      "       0.01309027, 0.01309027, 0.01309027, 0.01528325, 0.01528325,\n",
      "       0.01528325, 0.01528325, 0.01528325, 0.01528325, 0.01528325]), 'rank_test_score': array([119, 116, 112, 108,  92,  95,  93,  98,  46,  41,  50,  95,  87,\n",
      "        91,  41,  41,  57,  57,  57,  57,  57,  57,  57,  57,  57,  57,\n",
      "        57,  57,  57,  57, 120, 115, 110, 111,  87, 107, 109, 105, 102,\n",
      "        87,  37,  50,  50,  73,  50,  73,  50,  50,  50,  73,  73,  73,\n",
      "        73,  73,  73,  73,  73,  73,  73,  73, 117, 114, 106,  98,   1,\n",
      "        97,  87,  36,  33,   9,   9,  37,   3,  37,  33,  33,   9,   9,\n",
      "         9,   9,   9,   9,   9,   9,   9,   9,   9,   9,   9,   9, 118,\n",
      "       113, 103, 103,  37,  46,  93, 100,  46,  46,  71, 100,  73,  71,\n",
      "        44,  44,  25,   4,   2,   4,   4,   4,   4,  25,  25,  25,  25,\n",
      "        25,  25,  25])}\n"
     ]
    }
   ],
   "source": [
    "print(grid.cv_results_)"
   ]
  },
  {
   "cell_type": "markdown",
   "metadata": {},
   "source": [
    "Exibindo as médias do conjunto de dados de teste"
   ]
  },
  {
   "cell_type": "code",
   "execution_count": 126,
   "metadata": {
    "colab": {
     "base_uri": "https://localhost:8080/"
    },
    "executionInfo": {
     "elapsed": 681,
     "status": "ok",
     "timestamp": 1602097111198,
     "user": {
      "displayName": "Dalcimar Casanova",
      "photoUrl": "https://lh3.googleusercontent.com/a-/AOh14GgZzFT0FCo6nTJjXLoCVlWF617XKFK9oco_RLrc-A=s64",
      "userId": "01490701818826847808"
     },
     "user_tz": 180
    },
    "id": "hMf0AnegNmjK",
    "outputId": "a817e91c-b921-438d-8b6b-c53e0f4c2ab9"
   },
   "outputs": [
    {
     "data": {
      "text/plain": [
       "array([0.8769418 , 0.89234098, 0.91869542, 0.93408494, 0.94509815,\n",
       "       0.94506917, 0.94507883, 0.94289551, 0.94947446, 0.95165778,\n",
       "       0.9494648 , 0.94506917, 0.94726215, 0.94725249, 0.95165778,\n",
       "       0.95165778, 0.94945514, 0.94945514, 0.94945514, 0.94945514,\n",
       "       0.94945514, 0.94945514, 0.94945514, 0.94945514, 0.94945514,\n",
       "       0.94945514, 0.94945514, 0.94945514, 0.94945514, 0.94945514,\n",
       "       0.85275137, 0.89670763, 0.92967965, 0.92966999, 0.94726215,\n",
       "       0.9384709 , 0.93407528, 0.94066388, 0.94286653, 0.94726215,\n",
       "       0.95166744, 0.9494648 , 0.9494648 , 0.94727181, 0.9494648 ,\n",
       "       0.94727181, 0.9494648 , 0.9494648 , 0.9494648 , 0.94727181,\n",
       "       0.94727181, 0.94727181, 0.94727181, 0.94727181, 0.94727181,\n",
       "       0.94727181, 0.94727181, 0.94727181, 0.94727181, 0.94727181,\n",
       "       0.88354007, 0.91648311, 0.93849988, 0.94289551, 0.96045869,\n",
       "       0.94505951, 0.94726215, 0.95386042, 0.95387008, 0.95606307,\n",
       "       0.95606307, 0.95166744, 0.95824639, 0.95166744, 0.95387008,\n",
       "       0.95387008, 0.95606307, 0.95606307, 0.95606307, 0.95606307,\n",
       "       0.95606307, 0.95606307, 0.95606307, 0.95606307, 0.95606307,\n",
       "       0.95606307, 0.95606307, 0.95606307, 0.95606307, 0.95606307,\n",
       "       0.88132777, 0.91649277, 0.94069287, 0.94069287, 0.95166744,\n",
       "       0.94947446, 0.94507883, 0.94287619, 0.94947446, 0.94947446,\n",
       "       0.94728147, 0.94287619, 0.94727181, 0.94728147, 0.94948412,\n",
       "       0.94948412, 0.95387974, 0.95607273, 0.95827537, 0.95607273,\n",
       "       0.95607273, 0.95607273, 0.95607273, 0.95387974, 0.95387974,\n",
       "       0.95387974, 0.95387974, 0.95387974, 0.95387974, 0.95387974])"
      ]
     },
     "execution_count": 126,
     "metadata": {},
     "output_type": "execute_result"
    }
   ],
   "source": [
    "grid.cv_results_['mean_test_score']"
   ]
  },
  {
   "cell_type": "markdown",
   "metadata": {},
   "source": [
    "Exibindo os melhores parâmetros"
   ]
  },
  {
   "cell_type": "code",
   "execution_count": 127,
   "metadata": {
    "colab": {
     "base_uri": "https://localhost:8080/"
    },
    "executionInfo": {
     "elapsed": 680,
     "status": "ok",
     "timestamp": 1602097113111,
     "user": {
      "displayName": "Dalcimar Casanova",
      "photoUrl": "https://lh3.googleusercontent.com/a-/AOh14GgZzFT0FCo6nTJjXLoCVlWF617XKFK9oco_RLrc-A=s64",
      "userId": "01490701818826847808"
     },
     "user_tz": 180
    },
    "id": "VeB5Dem9_QCi",
    "outputId": "fce02cbe-9119-4fc1-84b1-ba4b401b6407"
   },
   "outputs": [
    {
     "name": "stdout",
     "output_type": "stream",
     "text": [
      "0.9604586907798129\n",
      "{'classify__n_neighbors': 3, 'reduce_dim__n_components': 5}\n"
     ]
    }
   ],
   "source": [
    "print(grid.best_score_)\n",
    "print(grid.best_params_)"
   ]
  },
  {
   "cell_type": "markdown",
   "metadata": {},
   "source": [
    "Realizando o cálculo com base na melhor estimativa"
   ]
  },
  {
   "cell_type": "code",
   "execution_count": 128,
   "metadata": {
    "executionInfo": {
     "elapsed": 980,
     "status": "ok",
     "timestamp": 1602093562887,
     "user": {
      "displayName": "Dalcimar Casanova",
      "photoUrl": "https://lh3.googleusercontent.com/a-/AOh14GgZzFT0FCo6nTJjXLoCVlWF617XKFK9oco_RLrc-A=s64",
      "userId": "01490701818826847808"
     },
     "user_tz": 180
    },
    "id": "w7g_5QwUEJ6q"
   },
   "outputs": [],
   "source": [
    "clf = grid.best_estimator_"
   ]
  },
  {
   "cell_type": "markdown",
   "metadata": {},
   "source": [
    "Verificando a acurácia dos dados de teste"
   ]
  },
  {
   "cell_type": "code",
   "execution_count": 129,
   "metadata": {
    "colab": {
     "base_uri": "https://localhost:8080/"
    },
    "executionInfo": {
     "elapsed": 805,
     "status": "ok",
     "timestamp": 1602097175199,
     "user": {
      "displayName": "Dalcimar Casanova",
      "photoUrl": "https://lh3.googleusercontent.com/a-/AOh14GgZzFT0FCo6nTJjXLoCVlWF617XKFK9oco_RLrc-A=s64",
      "userId": "01490701818826847808"
     },
     "user_tz": 180
    },
    "id": "gFnX1XlhC8KM",
    "outputId": "2b34c8eb-b1fa-4e84-f415-3f5bab15b26a"
   },
   "outputs": [
    {
     "data": {
      "text/plain": [
       "0.9473684210526315"
      ]
     },
     "execution_count": 129,
     "metadata": {},
     "output_type": "execute_result"
    }
   ],
   "source": [
    "y_test_pred = clf.predict(X_test)\n",
    "accuracy_score(y_test, y_test_pred)"
   ]
  }
 ],
 "metadata": {
  "colab": {
   "authorship_tag": "ABX9TyM5OidaZCZTV0lFBV+6lNL2",
   "name": "L11_pipelines and gridsearch.ipynb",
   "provenance": [],
   "toc_visible": true
  },
  "kernelspec": {
   "display_name": "Python 3 (ipykernel)",
   "language": "python",
   "name": "python3"
  },
  "language_info": {
   "codemirror_mode": {
    "name": "ipython",
    "version": 3
   },
   "file_extension": ".py",
   "mimetype": "text/x-python",
   "name": "python",
   "nbconvert_exporter": "python",
   "pygments_lexer": "ipython3",
   "version": "3.9.15"
  }
 },
 "nbformat": 4,
 "nbformat_minor": 1
}
