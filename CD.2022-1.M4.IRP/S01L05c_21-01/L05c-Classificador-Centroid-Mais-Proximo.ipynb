{
 "cells": [
  {
   "cell_type": "markdown",
   "metadata": {
    "colab_type": "text",
    "id": "0iAM99sO3t6S"
   },
   "source": [
    "# L05c - Classificador centroid mais próximo"
   ]
  },
  {
   "cell_type": "markdown",
   "metadata": {
    "colab_type": "text",
    "id": "hW8WAQm4EcY-"
   },
   "source": [
    "\n",
    "## Implementation from sklearn"
   ]
  },
  {
   "cell_type": "code",
   "execution_count": 103,
   "metadata": {
    "colab": {},
    "colab_type": "code",
    "id": "3HieNZlk3qJC"
   },
   "outputs": [],
   "source": [
    "from sklearn.neighbors import NearestCentroid\n",
    "import numpy as np\n",
    "import matplotlib.pyplot as plt\n",
    "from sklearn.metrics import accuracy_score"
   ]
  },
  {
   "cell_type": "code",
   "execution_count": 92,
   "metadata": {},
   "outputs": [],
   "source": [
    "X_train = np.array([[-1, -1], [-2, -1], [-3, -2], [1, 1], [2, 1], [3, 2]])\n",
    "y_train = np.array([0, 0, 0, 1, 1, 1])\n",
    "\n",
    "X_test = np.array([[-1, -2], [0, -1], [-3, -3], [2, 2],  [1, 2]])\n",
    "y_test = np.array([0, 0, 0, 1, 1])"
   ]
  },
  {
   "cell_type": "code",
   "execution_count": 93,
   "metadata": {
    "colab": {
     "base_uri": "https://localhost:8080/",
     "height": 54
    },
    "colab_type": "code",
    "executionInfo": {
     "elapsed": 945,
     "status": "ok",
     "timestamp": 1598048007389,
     "user": {
      "displayName": "Dalcimar Casanova",
      "photoUrl": "https://lh3.googleusercontent.com/a-/AOh14GgZzFT0FCo6nTJjXLoCVlWF617XKFK9oco_RLrc-A=s64",
      "userId": "01490701818826847808"
     },
     "user_tz": 180
    },
    "id": "609XT3ZY8jpn",
    "outputId": "0ecb136a-f4ea-49e5-9d13-4898a8a55941"
   },
   "outputs": [
    {
     "data": {
      "text/plain": [
       "array([[-2.        , -1.33333333],\n",
       "       [ 2.        ,  1.33333333]])"
      ]
     },
     "execution_count": 93,
     "metadata": {},
     "output_type": "execute_result"
    }
   ],
   "source": [
    "cn_model = NearestCentroid(metric='euclidean')\n",
    "cn_model.fit(X_train, y_train)\n",
    "\n",
    "cn_model.centroids_"
   ]
  },
  {
   "cell_type": "code",
   "execution_count": 94,
   "metadata": {
    "colab": {
     "base_uri": "https://localhost:8080/",
     "height": 283
    },
    "colab_type": "code",
    "executionInfo": {
     "elapsed": 1342,
     "status": "ok",
     "timestamp": 1598048007794,
     "user": {
      "displayName": "Dalcimar Casanova",
      "photoUrl": "https://lh3.googleusercontent.com/a-/AOh14GgZzFT0FCo6nTJjXLoCVlWF617XKFK9oco_RLrc-A=s64",
      "userId": "01490701818826847808"
     },
     "user_tz": 180
    },
    "id": "j8T4hw_88uSc",
    "outputId": "c3a40fbc-81f8-43cf-af4a-1808a6fb18a7"
   },
   "outputs": [
    {
     "data": {
      "text/plain": [
       "<matplotlib.collections.PathCollection at 0x22be9a36a60>"
      ]
     },
     "execution_count": 94,
     "metadata": {},
     "output_type": "execute_result"
    },
    {
     "data": {
      "image/png": "[encoded data removed]",
      "text/plain": [
       "<Figure size 640x480 with 1 Axes>"
      ]
     },
     "metadata": {},
     "output_type": "display_data"
    }
   ],
   "source": [
    "plt.scatter(X_train[y_train==0, 0], X_train[y_train==0, 1], c='r')\n",
    "plt.scatter(X_train[y_train==1, 0], X_train[y_train==1, 1], c='g')\n",
    "\n",
    "plt.scatter(cn_model.centroids_[:,0], cn_model.centroids_[:,1], s=200, marker='*', c='k')"
   ]
  },
  {
   "cell_type": "code",
   "execution_count": 95,
   "metadata": {
    "colab": {
     "base_uri": "https://localhost:8080/",
     "height": 54
    },
    "colab_type": "code",
    "executionInfo": {
     "elapsed": 1334,
     "status": "ok",
     "timestamp": 1598048007795,
     "user": {
      "displayName": "Dalcimar Casanova",
      "photoUrl": "https://lh3.googleusercontent.com/a-/AOh14GgZzFT0FCo6nTJjXLoCVlWF617XKFK9oco_RLrc-A=s64",
      "userId": "01490701818826847808"
     },
     "user_tz": 180
    },
    "id": "T-Xtv2pQgT7e",
    "outputId": "b1408fb6-bdf7-4227-f718-430be9ea9aa8"
   },
   "outputs": [
    {
     "name": "stdout",
     "output_type": "stream",
     "text": [
      "[0 0 0 1 1]\n",
      "[0 0 0 1 1]\n"
     ]
    }
   ],
   "source": [
    "y_pred = cn_model.predict(X_test)\n",
    "print(y_pred)\n",
    "print(y_test)"
   ]
  },
  {
   "cell_type": "code",
   "execution_count": 96,
   "metadata": {
    "colab": {
     "base_uri": "https://localhost:8080/",
     "height": 35
    },
    "colab_type": "code",
    "executionInfo": {
     "elapsed": 1325,
     "status": "ok",
     "timestamp": 1598048007796,
     "user": {
      "displayName": "Dalcimar Casanova",
      "photoUrl": "https://lh3.googleusercontent.com/a-/AOh14GgZzFT0FCo6nTJjXLoCVlWF617XKFK9oco_RLrc-A=s64",
      "userId": "01490701818826847808"
     },
     "user_tz": 180
    },
    "id": "8AhwLu9WhAsp",
    "outputId": "5424cfa4-6d3c-4d28-eb1b-148ce739bf0c"
   },
   "outputs": [
    {
     "data": {
      "text/plain": [
       "1.0"
      ]
     },
     "execution_count": 96,
     "metadata": {},
     "output_type": "execute_result"
    }
   ],
   "source": [
    "accuracy_score(y_test, y_pred)"
   ]
  },
  {
   "cell_type": "code",
   "execution_count": 97,
   "metadata": {
    "colab": {
     "base_uri": "https://localhost:8080/",
     "height": 283
    },
    "colab_type": "code",
    "executionInfo": {
     "elapsed": 1318,
     "status": "ok",
     "timestamp": 1598048007797,
     "user": {
      "displayName": "Dalcimar Casanova",
      "photoUrl": "https://lh3.googleusercontent.com/a-/AOh14GgZzFT0FCo6nTJjXLoCVlWF617XKFK9oco_RLrc-A=s64",
      "userId": "01490701818826847808"
     },
     "user_tz": 180
    },
    "id": "FpW0WCHM9HL2",
    "outputId": "b6f5bbbe-4e9a-4482-e297-a7ceb44a6cf8"
   },
   "outputs": [
    {
     "data": {
      "text/plain": [
       "<matplotlib.collections.PathCollection at 0x22be9aa6b50>"
      ]
     },
     "execution_count": 97,
     "metadata": {},
     "output_type": "execute_result"
    },
    {
     "data": {
      "image/png": "[encoded data removed]",
      "text/plain": [
       "<Figure size 640x480 with 1 Axes>"
      ]
     },
     "metadata": {},
     "output_type": "display_data"
    }
   ],
   "source": [
    "plt.scatter(X_test[y_test==0, 0], X_test[y_test==0, 1], c='r')\n",
    "plt.scatter(X_test[y_test==1, 0], X_test[y_test==1, 1], c='g')\n",
    "\n",
    "plt.scatter(cn_model.centroids_[:,0], cn_model.centroids_[:,1], s=200, marker='*', c='k')"
   ]
  },
  {
   "cell_type": "markdown",
   "metadata": {
    "colab_type": "text",
    "id": "6pkM_TA5hkFH"
   },
   "source": [
    "## Implementation from scratch"
   ]
  },
  {
   "cell_type": "markdown",
   "metadata": {},
   "source": [
    "Criando as funções fit(), predict() e score() para a classe NearestCentroidScratch"
   ]
  },
  {
   "cell_type": "code",
   "execution_count": 115,
   "metadata": {
    "colab": {},
    "colab_type": "code",
    "id": "5RY4wwW8hnox"
   },
   "outputs": [],
   "source": [
    "class NearestCentroidScratch():\n",
    "    def __init__(self, metric='eucledian'):\n",
    "        self.metric = metric\n",
    "        self.centroids_ = np.array([])\n",
    "        self.classes_ = np.array([])\n",
    "  \n",
    "    # Ajusta o modelo de acordo com os dados de treinamento fornecidos\n",
    "    def fit(self, X, y):\n",
    "        self.classes_ = np.unique(y)\n",
    "        self.centroids_ = np.empty((0, len(self.classes_)))\n",
    "        for i in self.classes_:\n",
    "            c = np.mean(X[y == i], axis = 0)\n",
    "            self.centroids_ = np.vstack((self.centroids_, c))\n",
    "\n",
    "    # Executa a classificação sobre os dados de teste\n",
    "    # Para cada amostra de teste é retornada a classe prevista\n",
    "    def predict(self, X):\n",
    "        res = np.array([])\n",
    "        for t_i in X:\n",
    "            label = np.sqrt(np.sum((t_i - self.centroids_)**2, axis = 1))\n",
    "            pred = self.classes_[np.where(label == np.min(label))[0][0]]\n",
    "            res = np.append(res, pred)\n",
    "        return res.astype(int)\n",
    "    \n",
    "    # Retorna a acurácia média nos dados e classes de teste fornecidos\n",
    "    def score(self, y, y_pred):\n",
    "        return np.sum(y == y_pred) / len(y)"
   ]
  },
  {
   "cell_type": "markdown",
   "metadata": {},
   "source": [
    "Definindo os dados e classes de treino e teste"
   ]
  },
  {
   "cell_type": "code",
   "execution_count": 117,
   "metadata": {
    "colab": {},
    "colab_type": "code",
    "id": "lgFtYqrZjCCb"
   },
   "outputs": [],
   "source": [
    "# X_train = np.array([[-1, -1], [-2, -1], [-3, -2], [1, 1], [2, 1], [3, 2]])\n",
    "# y_train = np.array([1, 1, 1, 2, 2, 2])\n",
    "\n",
    "X_train = np.array([[-1, -1], [-2, -1], [-3, -2], [1, 1], [2, 1], [3, 2]])\n",
    "y_train = np.array([0, 0, 0, 1, 1, 1])\n",
    "\n",
    "X_test = np.array([[-1, -2], [0, -1], [-3, -3], [2, 2],  [1, 2]])\n",
    "y_test = np.array([0, 0, 0, 1, 1])"
   ]
  },
  {
   "cell_type": "markdown",
   "metadata": {},
   "source": [
    "Realizando o treinamento dos dados"
   ]
  },
  {
   "cell_type": "code",
   "execution_count": 110,
   "metadata": {
    "colab": {
     "base_uri": "https://localhost:8080/",
     "height": 226
    },
    "colab_type": "code",
    "executionInfo": {
     "elapsed": 1635,
     "status": "error",
     "timestamp": 1598048008138,
     "user": {
      "displayName": "Dalcimar Casanova",
      "photoUrl": "https://lh3.googleusercontent.com/a-/AOh14GgZzFT0FCo6nTJjXLoCVlWF617XKFK9oco_RLrc-A=s64",
      "userId": "01490701818826847808"
     },
     "user_tz": 180
    },
    "id": "9d16ZzimlLdJ",
    "outputId": "8a4a49c9-9998-4fea-d10c-f4fc9315af2e"
   },
   "outputs": [
    {
     "name": "stdout",
     "output_type": "stream",
     "text": [
      "[-2.         -1.33333333]\n",
      "[2.         1.33333333]\n"
     ]
    },
    {
     "data": {
      "text/plain": [
       "array([[-2.        , -1.33333333],\n",
       "       [ 2.        ,  1.33333333]])"
      ]
     },
     "execution_count": 110,
     "metadata": {},
     "output_type": "execute_result"
    }
   ],
   "source": [
    "clf = NearestCentroidScratch()\n",
    "\n",
    "clf.fit(X_train, y_train)\n",
    "clf.centroids_"
   ]
  },
  {
   "cell_type": "markdown",
   "metadata": {},
   "source": [
    "Realizando a previsão das classes de teste"
   ]
  },
  {
   "cell_type": "code",
   "execution_count": 114,
   "metadata": {
    "colab": {},
    "colab_type": "code",
    "id": "CVGRYF60ChgT"
   },
   "outputs": [
    {
     "name": "stdout",
     "output_type": "stream",
     "text": [
      "[0 0 0 1 1]\n",
      "[0 0 0 1 1]\n"
     ]
    }
   ],
   "source": [
    "# X_test = np.array([[-1, -1]])\n",
    "# y_test = np.array([1])\n",
    "\n",
    "y_pred = clf.predict(X_test)\n",
    "\n",
    "print(y_pred)\n",
    "print(y_test)"
   ]
  },
  {
   "cell_type": "markdown",
   "metadata": {},
   "source": [
    "Verificando a acurácia entre as classes de teste e classes previstas"
   ]
  },
  {
   "cell_type": "code",
   "execution_count": 102,
   "metadata": {
    "colab": {},
    "colab_type": "code",
    "id": "KY7b9XGOCIkM"
   },
   "outputs": [
    {
     "data": {
      "text/plain": [
       "1.0"
      ]
     },
     "execution_count": 102,
     "metadata": {},
     "output_type": "execute_result"
    }
   ],
   "source": [
    "clf.score(y_test, y_pred)"
   ]
  }
 ],
 "metadata": {
  "colab": {
   "authorship_tag": "ABX9TyOmAsKBAPFArtkNmkqfyNAd",
   "collapsed_sections": [],
   "name": "L05c_nearest centroid scratch.ipynb",
   "provenance": [
    {
     "file_id": "1X62Se_tuXRILJ0GT7ODY3Ud_xCMzG_9Y",
     "timestamp": 1598021384714
    }
   ]
  },
  "kernelspec": {
   "display_name": "Python 3 (ipykernel)",
   "language": "python",
   "name": "python3"
  },
  "language_info": {
   "codemirror_mode": {
    "name": "ipython",
    "version": 3
   },
   "file_extension": ".py",
   "mimetype": "text/x-python",
   "name": "python",
   "nbconvert_exporter": "python",
   "pygments_lexer": "ipython3",
   "version": "3.9.15"
  }
 },
 "nbformat": 4,
 "nbformat_minor": 1
}
